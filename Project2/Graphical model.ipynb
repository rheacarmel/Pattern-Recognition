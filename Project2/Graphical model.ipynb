{
  "nbformat": 4,
  "nbformat_minor": 0,
  "metadata": {
    "colab": {
      "name": "Project3.ipynb",
      "provenance": [],
      "collapsed_sections": []
    },
    "kernelspec": {
      "name": "python3",
      "display_name": "Python 3"
    }
  },
  "cells": [
    {
      "cell_type": "code",
      "metadata": {
        "id": "plnuYhwvYszI",
        "colab_type": "code",
        "colab": {}
      },
      "source": [
        "from pgmpy.models import BayesianModel"
      ],
      "execution_count": null,
      "outputs": []
    },
    {
      "cell_type": "code",
      "metadata": {
        "id": "AUo5Hm7kY18w",
        "colab_type": "code",
        "colab": {
          "base_uri": "https://localhost:8080/",
          "height": 269
        },
        "outputId": "d5d52f67-b036-4d30-da63-c1b3667320ae"
      },
      "source": [
        "!pip install pgmpy\n"
      ],
      "execution_count": null,
      "outputs": [
        {
          "output_type": "stream",
          "text": [
            "Requirement already satisfied: pgmpy in /usr/local/lib/python3.6/dist-packages (0.1.10)\n",
            "Requirement already satisfied: networkx in /usr/local/lib/python3.6/dist-packages (from pgmpy) (2.4)\n",
            "Requirement already satisfied: numpy in /usr/local/lib/python3.6/dist-packages (from pgmpy) (1.18.2)\n",
            "Requirement already satisfied: pandas in /usr/local/lib/python3.6/dist-packages (from pgmpy) (1.0.3)\n",
            "Requirement already satisfied: torch in /usr/local/lib/python3.6/dist-packages (from pgmpy) (1.4.0)\n",
            "Requirement already satisfied: pyparsing in /usr/local/lib/python3.6/dist-packages (from pgmpy) (2.4.6)\n",
            "Requirement already satisfied: scipy in /usr/local/lib/python3.6/dist-packages (from pgmpy) (1.4.1)\n",
            "Requirement already satisfied: joblib in /usr/local/lib/python3.6/dist-packages (from pgmpy) (0.14.1)\n",
            "Requirement already satisfied: statsmodels in /usr/local/lib/python3.6/dist-packages (from pgmpy) (0.10.2)\n",
            "Requirement already satisfied: tqdm in /usr/local/lib/python3.6/dist-packages (from pgmpy) (4.38.0)\n",
            "Requirement already satisfied: decorator>=4.3.0 in /usr/local/lib/python3.6/dist-packages (from networkx->pgmpy) (4.4.2)\n",
            "Requirement already satisfied: python-dateutil>=2.6.1 in /usr/local/lib/python3.6/dist-packages (from pandas->pgmpy) (2.8.1)\n",
            "Requirement already satisfied: pytz>=2017.2 in /usr/local/lib/python3.6/dist-packages (from pandas->pgmpy) (2018.9)\n",
            "Requirement already satisfied: patsy>=0.4.0 in /usr/local/lib/python3.6/dist-packages (from statsmodels->pgmpy) (0.5.1)\n",
            "Requirement already satisfied: six>=1.5 in /usr/local/lib/python3.6/dist-packages (from python-dateutil>=2.6.1->pandas->pgmpy) (1.12.0)\n"
          ],
          "name": "stdout"
        }
      ]
    },
    {
      "cell_type": "code",
      "metadata": {
        "id": "qjW2cOY0Y7bz",
        "colab_type": "code",
        "colab": {}
      },
      "source": [
        "chest_clinic_model=BayesianModel([('asia','tub'),('smoke','lung'),('tub','either'),('lung','either'),('either','xray'),('either','dysp'),('smoke','bronc'),('bronc','dysp')])"
      ],
      "execution_count": null,
      "outputs": []
    },
    {
      "cell_type": "code",
      "metadata": {
        "id": "xG-yX4VRaGhk",
        "colab_type": "code",
        "colab": {}
      },
      "source": [
        "from pgmpy.factors.discrete import  TabularCPD\n",
        "\n",
        "cpd_asia=TabularCPD(variable='asia',\n",
        "                    variable_card=2,\n",
        "                    values=[[0.01],[0.99]])\n",
        "cpd_tub=TabularCPD(variable='tub',\n",
        "                   variable_card=2,\n",
        "                   values=[[0.05,0.01],[0.95,0.99]],\n",
        "                   evidence=['asia'],\n",
        "                   evidence_card=[2])\n",
        "cpd_smoke=TabularCPD(variable='smoke',\n",
        "                     variable_card=2,\n",
        "                     values=[[0.5],[0.5]])\n",
        "\n",
        "cpd_lung=TabularCPD(variable='lung',\n",
        "                   variable_card=2,\n",
        "                   values=[[0.1,0.01],[0.9,0.99]],\n",
        "                   evidence=['smoke'],\n",
        "                   evidence_card=[2])\n",
        "cpd_bronc=TabularCPD(variable='bronc',\n",
        "                   variable_card=2,\n",
        "                   values=[[0.6,0.3],[0.4,0.7]],\n",
        "                   evidence=['smoke'],\n",
        "                   evidence_card=[2])\n",
        "\n",
        "cpd_either=TabularCPD(variable='either',\n",
        "                      variable_card=2,\n",
        "                      values=[[1,1,1,0],[0,0,0,1]],\n",
        "                      evidence=['tub','lung'],\n",
        "                      evidence_card=[2,2])\n",
        "\n",
        "cpd_xray=TabularCPD(variable='xray',\n",
        "                   variable_card=2,\n",
        "                   values=[[0.98,0.05],[0.02,0.95]],\n",
        "                   evidence=['either'],\n",
        "                   evidence_card=[2])\n",
        "cpd_dysp=TabularCPD(variable='dysp',\n",
        "                      variable_card=2,\n",
        "                      values=[[0.9,0.7,0.8,0.1],[0.1,0.3,0.2,0.9]],\n",
        "                      evidence=['bronc','either'],\n",
        "                      evidence_card=[2,2])"
      ],
      "execution_count": null,
      "outputs": []
    },
    {
      "cell_type": "code",
      "metadata": {
        "id": "IzdH1FxGfhIs",
        "colab_type": "code",
        "colab": {
          "base_uri": "https://localhost:8080/",
          "height": 34
        },
        "outputId": "0a27e1d5-f8b9-44cb-eb70-4e7cd0fe3f05"
      },
      "source": [
        "chest_clinic_model.add_cpds(cpd_asia,cpd_smoke,cpd_tub,cpd_lung,cpd_either,cpd_bronc,cpd_xray,cpd_dysp)\n",
        "\n",
        "chest_clinic_model.check_model()"
      ],
      "execution_count": null,
      "outputs": [
        {
          "output_type": "execute_result",
          "data": {
            "text/plain": [
              "True"
            ]
          },
          "metadata": {
            "tags": []
          },
          "execution_count": 45
        }
      ]
    },
    {
      "cell_type": "code",
      "metadata": {
        "id": "Ctg9lDvKf6NT",
        "colab_type": "code",
        "colab": {
          "base_uri": "https://localhost:8080/",
          "height": 1000
        },
        "outputId": "81b626b4-c059-4f18-c993-015b0335f69b"
      },
      "source": [
        "chest_clinic_model.get_independencies()"
      ],
      "execution_count": null,
      "outputs": [
        {
          "output_type": "execute_result",
          "data": {
            "text/plain": [
              "(asia _|_ bronc, smoke, lung)\n",
              "(asia _|_ smoke, bronc | lung)\n",
              "(asia _|_ bronc, lung | smoke)\n",
              "(asia _|_ xray | either)\n",
              "(asia _|_ lung, xray, dysp, smoke, bronc, either | tub)\n",
              "(asia _|_ smoke, lung | bronc)\n",
              "(asia _|_ smoke, bronc | lung, xray)\n",
              "(asia _|_ bronc | smoke, lung)\n",
              "(asia _|_ bronc, smoke, xray, dysp | lung, either)\n",
              "(asia _|_ xray, dysp, smoke, bronc, either | lung, tub)\n",
              "(asia _|_ smoke | bronc, lung)\n",
              "(asia _|_ bronc | smoke, xray)\n",
              "(asia _|_ lung, dysp, smoke, bronc, either | xray, tub)\n",
              "(asia _|_ xray | dysp, either)\n",
              "(asia _|_ lung, xray, smoke, bronc, either | dysp, tub)\n",
              "(asia _|_ bronc, xray, dysp | smoke, either)\n",
              "(asia _|_ lung, xray, dysp, bronc, either | smoke, tub)\n",
              "(asia _|_ lung | smoke, bronc)\n",
              "(asia _|_ lung, xray, dysp, smoke, bronc | either, tub)\n",
              "(asia _|_ xray, dysp | bronc, either)\n",
              "(asia _|_ lung, xray, dysp, smoke, either | bronc, tub)\n",
              "(asia _|_ bronc | smoke, lung, xray)\n",
              "(asia _|_ smoke, bronc, dysp | lung, either, xray)\n",
              "(asia _|_ smoke, bronc, dysp, either | lung, xray, tub)\n",
              "(asia _|_ smoke | bronc, lung, xray)\n",
              "(asia _|_ smoke, bronc, xray | lung, dysp, either)\n",
              "(asia _|_ smoke, bronc, either, xray | lung, dysp, tub)\n",
              "(asia _|_ smoke | bronc, lung, dysp)\n",
              "(asia _|_ bronc, dysp, xray | smoke, lung, either)\n",
              "(asia _|_ bronc, dysp, xray, either | smoke, lung, tub)\n",
              "(asia _|_ smoke, bronc, dysp, xray | lung, either, tub)\n",
              "(asia _|_ smoke, xray, dysp | bronc, lung, either)\n",
              "(asia _|_ smoke, xray, dysp, either | bronc, lung, tub)\n",
              "(asia _|_ smoke, bronc, either, lung | xray, dysp, tub)\n",
              "(asia _|_ bronc, dysp | smoke, xray, either)\n",
              "(asia _|_ bronc, dysp, lung, either | smoke, xray, tub)\n",
              "(asia _|_ smoke, bronc, dysp, lung | xray, either, tub)\n",
              "(asia _|_ dysp | bronc, xray, either)\n",
              "(asia _|_ smoke, lung, dysp, either | bronc, xray, tub)\n",
              "(asia _|_ bronc, xray | smoke, dysp, either)\n",
              "(asia _|_ xray, bronc, either, lung | smoke, dysp, tub)\n",
              "(asia _|_ xray, smoke, bronc, lung | tub, dysp, either)\n",
              "(asia _|_ xray | bronc, dysp, either)\n",
              "(asia _|_ smoke, lung, either, xray | bronc, dysp, tub)\n",
              "(asia _|_ xray, bronc, dysp, lung | smoke, either, tub)\n",
              "(asia _|_ xray, dysp | smoke, bronc, either)\n",
              "(asia _|_ lung, dysp, xray, either | smoke, bronc, tub)\n",
              "(asia _|_ smoke, lung, dysp, xray | bronc, either, tub)\n",
              "(asia _|_ smoke, bronc | lung, dysp, xray, either)\n",
              "(asia _|_ smoke, bronc, either | lung, dysp, xray, tub)\n",
              "(asia _|_ smoke | bronc, lung, dysp, xray)\n",
              "(asia _|_ bronc, dysp | smoke, lung, either, xray)\n",
              "(asia _|_ bronc, dysp, either | smoke, lung, xray, tub)\n",
              "(asia _|_ smoke, bronc, dysp | lung, either, xray, tub)\n",
              "(asia _|_ smoke, dysp | bronc, lung, either, xray)\n",
              "(asia _|_ smoke, dysp, either | bronc, lung, xray, tub)\n",
              "(asia _|_ bronc, xray | smoke, lung, dysp, either)\n",
              "(asia _|_ bronc, either, xray | smoke, lung, dysp, tub)\n",
              "(asia _|_ smoke, bronc, xray | tub, lung, dysp, either)\n",
              "(asia _|_ smoke, xray | bronc, lung, dysp, either)\n",
              "(asia _|_ smoke, xray, either | bronc, lung, dysp, tub)\n",
              "(asia _|_ bronc, dysp, xray | smoke, lung, either, tub)\n",
              "(asia _|_ xray, dysp | bronc, smoke, lung, either)\n",
              "(asia _|_ xray, dysp, either | bronc, smoke, lung, tub)\n",
              "(asia _|_ smoke, xray, dysp | bronc, lung, either, tub)\n",
              "(asia _|_ bronc | smoke, xray, dysp, either)\n",
              "(asia _|_ bronc, either, lung | smoke, xray, dysp, tub)\n",
              "(asia _|_ smoke, bronc, lung | tub, xray, dysp, either)\n",
              "(asia _|_ smoke, lung, either | bronc, xray, dysp, tub)\n",
              "(asia _|_ bronc, dysp, lung | smoke, xray, either, tub)\n",
              "(asia _|_ dysp | bronc, smoke, xray, either)\n",
              "(asia _|_ lung, dysp, either | bronc, smoke, xray, tub)\n",
              "(asia _|_ smoke, lung, dysp | bronc, xray, either, tub)\n",
              "(asia _|_ xray, bronc, lung | tub, smoke, dysp, either)\n",
              "(asia _|_ xray | smoke, bronc, dysp, either)\n",
              "(asia _|_ lung, either, xray | smoke, bronc, dysp, tub)\n",
              "(asia _|_ smoke, lung, xray | tub, bronc, dysp, either)\n",
              "(asia _|_ lung, dysp, xray | smoke, bronc, either, tub)\n",
              "(asia _|_ bronc | lung, xray, dysp, smoke, either)\n",
              "(asia _|_ bronc, either | lung, xray, dysp, smoke, tub)\n",
              "(asia _|_ smoke, bronc | lung, xray, dysp, either, tub)\n",
              "(asia _|_ smoke | lung, xray, dysp, either, bronc)\n",
              "(asia _|_ smoke, either | lung, xray, dysp, tub, bronc)\n",
              "(asia _|_ bronc, dysp | lung, xray, smoke, either, tub)\n",
              "(asia _|_ dysp | lung, xray, smoke, either, bronc)\n",
              "(asia _|_ dysp, either | lung, xray, smoke, tub, bronc)\n",
              "(asia _|_ smoke, dysp | lung, xray, either, tub, bronc)\n",
              "(asia _|_ bronc, xray | lung, dysp, smoke, either, tub)\n",
              "(asia _|_ xray | lung, dysp, smoke, either, bronc)\n",
              "(asia _|_ xray, either | lung, dysp, smoke, tub, bronc)\n",
              "(asia _|_ smoke, xray | lung, dysp, either, tub, bronc)\n",
              "(asia _|_ xray, dysp | lung, smoke, either, tub, bronc)\n",
              "(asia _|_ bronc, lung | xray, dysp, smoke, either, tub)\n",
              "(asia _|_ lung, either | xray, dysp, smoke, tub, bronc)\n",
              "(asia _|_ smoke, lung | xray, dysp, either, tub, bronc)\n",
              "(asia _|_ lung, dysp | xray, smoke, either, tub, bronc)\n",
              "(asia _|_ lung, xray | dysp, smoke, either, tub, bronc)\n",
              "(asia _|_ bronc | lung, xray, dysp, smoke, either, tub)\n",
              "(asia _|_ either | lung, xray, dysp, smoke, tub, bronc)\n",
              "(asia _|_ smoke | lung, xray, dysp, either, tub, bronc)\n",
              "(asia _|_ dysp | lung, xray, smoke, either, tub, bronc)\n",
              "(asia _|_ xray | lung, dysp, smoke, either, tub, bronc)\n",
              "(asia _|_ lung | xray, dysp, smoke, either, tub, bronc)\n",
              "(tub _|_ bronc, smoke, lung)\n",
              "(tub _|_ smoke, bronc | lung)\n",
              "(tub _|_ bronc, lung | smoke)\n",
              "(tub _|_ xray | either)\n",
              "(tub _|_ bronc, smoke, lung | asia)\n",
              "(tub _|_ smoke, lung | bronc)\n",
              "(tub _|_ smoke, bronc | lung, xray)\n",
              "(tub _|_ bronc | smoke, lung)\n",
              "(tub _|_ bronc, smoke, xray, dysp | lung, either)\n",
              "(tub _|_ smoke, bronc | asia, lung)\n",
              "(tub _|_ smoke | bronc, lung)\n",
              "(tub _|_ bronc | smoke, xray)\n",
              "(tub _|_ xray | dysp, either)\n",
              "(tub _|_ bronc, xray, dysp | smoke, either)\n",
              "(tub _|_ bronc, lung | asia, smoke)\n",
              "(tub _|_ lung | smoke, bronc)\n",
              "(tub _|_ xray | asia, either)\n",
              "(tub _|_ xray, dysp | bronc, either)\n",
              "(tub _|_ smoke, lung | asia, bronc)\n",
              "(tub _|_ bronc | smoke, lung, xray)\n",
              "(tub _|_ smoke, bronc, dysp | lung, either, xray)\n",
              "(tub _|_ smoke, bronc | asia, lung, xray)\n",
              "(tub _|_ smoke | bronc, lung, xray)\n",
              "(tub _|_ smoke, bronc, xray | lung, dysp, either)\n",
              "(tub _|_ smoke | bronc, lung, dysp)\n",
              "(tub _|_ bronc, dysp, xray | smoke, lung, either)\n",
              "(tub _|_ bronc | asia, smoke, lung)\n",
              "(tub _|_ smoke, bronc, dysp, xray | asia, lung, either)\n",
              "(tub _|_ smoke, xray, dysp | bronc, lung, either)\n",
              "(tub _|_ smoke | asia, bronc, lung)\n",
              "(tub _|_ bronc, dysp | smoke, xray, either)\n",
              "(tub _|_ bronc | asia, smoke, xray)\n",
              "(tub _|_ dysp | bronc, xray, either)\n",
              "(tub _|_ bronc, xray | smoke, dysp, either)\n",
              "(tub _|_ xray | asia, dysp, either)\n",
              "(tub _|_ xray | bronc, dysp, either)\n",
              "(tub _|_ bronc, dysp, xray | asia, smoke, either)\n",
              "(tub _|_ xray, dysp | smoke, bronc, either)\n",
              "(tub _|_ lung | asia, smoke, bronc)\n",
              "(tub _|_ xray, dysp | asia, bronc, either)\n",
              "(tub _|_ smoke, bronc | lung, dysp, xray, either)\n",
              "(tub _|_ smoke | bronc, lung, dysp, xray)\n",
              "(tub _|_ bronc, dysp | smoke, lung, either, xray)\n",
              "(tub _|_ bronc | asia, smoke, lung, xray)\n",
              "(tub _|_ smoke, bronc, dysp | asia, lung, either, xray)\n",
              "(tub _|_ smoke, dysp | bronc, lung, either, xray)\n",
              "(tub _|_ smoke | asia, bronc, lung, xray)\n",
              "(tub _|_ bronc, xray | smoke, lung, dysp, either)\n",
              "(tub _|_ smoke, bronc, xray | asia, lung, dysp, either)\n",
              "(tub _|_ smoke, xray | bronc, lung, dysp, either)\n",
              "(tub _|_ smoke | asia, bronc, lung, dysp)\n",
              "(tub _|_ bronc, dysp, xray | asia, smoke, lung, either)\n",
              "(tub _|_ xray, dysp | bronc, smoke, lung, either)\n",
              "(tub _|_ smoke, xray, dysp | asia, bronc, lung, either)\n",
              "(tub _|_ bronc | smoke, xray, dysp, either)\n",
              "(tub _|_ bronc, dysp | asia, smoke, xray, either)\n",
              "(tub _|_ dysp | bronc, smoke, xray, either)\n",
              "(tub _|_ dysp | asia, bronc, xray, either)\n",
              "(tub _|_ bronc, xray | asia, smoke, dysp, either)\n",
              "(tub _|_ xray | smoke, bronc, dysp, either)\n",
              "(tub _|_ xray | asia, bronc, dysp, either)\n",
              "(tub _|_ xray, dysp | asia, smoke, bronc, either)\n",
              "(tub _|_ bronc | lung, xray, dysp, smoke, either)\n",
              "(tub _|_ smoke, bronc | lung, xray, dysp, either, asia)\n",
              "(tub _|_ smoke | lung, xray, dysp, either, bronc)\n",
              "(tub _|_ smoke | lung, xray, dysp, asia, bronc)\n",
              "(tub _|_ bronc, dysp | lung, xray, smoke, either, asia)\n",
              "(tub _|_ dysp | lung, xray, smoke, either, bronc)\n",
              "(tub _|_ smoke, dysp | lung, xray, either, asia, bronc)\n",
              "(tub _|_ bronc, xray | lung, dysp, smoke, either, asia)\n",
              "(tub _|_ xray | lung, dysp, smoke, either, bronc)\n",
              "(tub _|_ smoke, xray | lung, dysp, either, asia, bronc)\n",
              "(tub _|_ xray, dysp | lung, smoke, either, asia, bronc)\n",
              "(tub _|_ bronc | xray, dysp, smoke, either, asia)\n",
              "(tub _|_ dysp | xray, smoke, either, asia, bronc)\n",
              "(tub _|_ xray | dysp, smoke, either, asia, bronc)\n",
              "(tub _|_ bronc | lung, xray, dysp, smoke, either, asia)\n",
              "(tub _|_ smoke | lung, xray, dysp, either, asia, bronc)\n",
              "(tub _|_ dysp | lung, xray, smoke, either, asia, bronc)\n",
              "(tub _|_ xray | lung, dysp, smoke, either, asia, bronc)\n",
              "(smoke _|_ asia, tub)\n",
              "(smoke _|_ asia, xray, either, tub | lung)\n",
              "(smoke _|_ xray | either)\n",
              "(smoke _|_ asia | tub)\n",
              "(smoke _|_ tub | asia)\n",
              "(smoke _|_ asia, tub | bronc)\n",
              "(smoke _|_ asia, either, tub | lung, xray)\n",
              "(smoke _|_ asia, xray, tub | lung, either)\n",
              "(smoke _|_ asia, xray, either | lung, tub)\n",
              "(smoke _|_ xray, either, tub | asia, lung)\n",
              "(smoke _|_ asia, xray, dysp, either, tub | bronc, lung)\n",
              "(smoke _|_ asia | xray, tub)\n",
              "(smoke _|_ xray | dysp, either)\n",
              "(smoke _|_ asia | dysp, tub)\n",
              "(smoke _|_ asia, xray | either, tub)\n",
              "(smoke _|_ xray | asia, either)\n",
              "(smoke _|_ xray, dysp | bronc, either)\n",
              "(smoke _|_ asia | bronc, tub)\n",
              "(smoke _|_ tub | asia, bronc)\n",
              "(smoke _|_ asia, tub | lung, either, xray)\n",
              "(smoke _|_ asia, either | lung, xray, tub)\n",
              "(smoke _|_ either, tub | asia, lung, xray)\n",
              "(smoke _|_ asia, either, dysp, tub | bronc, lung, xray)\n",
              "(smoke _|_ asia, xray, tub | lung, dysp, either)\n",
              "(smoke _|_ asia | lung, dysp, tub)\n",
              "(smoke _|_ asia, xray, either, tub | bronc, lung, dysp)\n",
              "(smoke _|_ asia, xray | lung, either, tub)\n",
              "(smoke _|_ xray, tub | asia, lung, either)\n",
              "(smoke _|_ asia, xray, dysp, tub | bronc, lung, either)\n",
              "(smoke _|_ xray, either | asia, lung, tub)\n",
              "(smoke _|_ asia, xray, dysp, either | bronc, lung, tub)\n",
              "(smoke _|_ either, xray, dysp, tub | asia, bronc, lung)\n",
              "(smoke _|_ asia | xray, dysp, tub)\n",
              "(smoke _|_ asia | xray, either, tub)\n",
              "(smoke _|_ dysp | bronc, xray, either)\n",
              "(smoke _|_ asia | bronc, xray, tub)\n",
              "(smoke _|_ asia, xray | tub, dysp, either)\n",
              "(smoke _|_ xray | asia, dysp, either)\n",
              "(smoke _|_ xray | bronc, dysp, either)\n",
              "(smoke _|_ asia | bronc, dysp, tub)\n",
              "(smoke _|_ xray | asia, either, tub)\n",
              "(smoke _|_ asia, xray, dysp | bronc, either, tub)\n",
              "(smoke _|_ xray, dysp | asia, bronc, either)\n",
              "(smoke _|_ asia, tub | lung, dysp, xray, either)\n",
              "(smoke _|_ asia | lung, dysp, xray, tub)\n",
              "(smoke _|_ asia, either, tub | bronc, lung, dysp, xray)\n",
              "(smoke _|_ asia | lung, either, xray, tub)\n",
              "(smoke _|_ tub | asia, lung, either, xray)\n",
              "(smoke _|_ asia, dysp, tub | bronc, lung, either, xray)\n",
              "(smoke _|_ either | asia, lung, xray, tub)\n",
              "(smoke _|_ asia, dysp, either | bronc, lung, xray, tub)\n",
              "(smoke _|_ either, dysp, tub | asia, bronc, lung, xray)\n",
              "(smoke _|_ asia, xray | tub, lung, dysp, either)\n",
              "(smoke _|_ xray, tub | asia, lung, dysp, either)\n",
              "(smoke _|_ asia, xray, tub | bronc, lung, dysp, either)\n",
              "(smoke _|_ asia, xray, either | bronc, lung, dysp, tub)\n",
              "(smoke _|_ xray, either, tub | asia, bronc, lung, dysp)\n",
              "(smoke _|_ xray | asia, lung, either, tub)\n",
              "(smoke _|_ asia, xray, dysp | bronc, lung, either, tub)\n",
              "(smoke _|_ xray, dysp, tub | asia, bronc, lung, either)\n",
              "(smoke _|_ xray, dysp, either | asia, bronc, lung, tub)\n",
              "(smoke _|_ asia | tub, xray, dysp, either)\n",
              "(smoke _|_ asia | bronc, xray, dysp, tub)\n",
              "(smoke _|_ asia, dysp | bronc, xray, either, tub)\n",
              "(smoke _|_ dysp | asia, bronc, xray, either)\n",
              "(smoke _|_ xray | tub, asia, dysp, either)\n",
              "(smoke _|_ asia, xray | tub, bronc, dysp, either)\n",
              "(smoke _|_ xray | asia, bronc, dysp, either)\n",
              "(smoke _|_ xray, dysp | asia, bronc, either, tub)\n",
              "(smoke _|_ asia | lung, xray, dysp, either, tub)\n",
              "(smoke _|_ tub | lung, xray, dysp, either, asia)\n",
              "(smoke _|_ asia, tub | lung, xray, dysp, either, bronc)\n",
              "(smoke _|_ asia, either | lung, xray, dysp, tub, bronc)\n",
              "(smoke _|_ either, tub | lung, xray, dysp, asia, bronc)\n",
              "(smoke _|_ asia, dysp | lung, xray, either, tub, bronc)\n",
              "(smoke _|_ dysp, tub | lung, xray, either, asia, bronc)\n",
              "(smoke _|_ dysp, either | lung, xray, tub, asia, bronc)\n",
              "(smoke _|_ xray | lung, dysp, either, tub, asia)\n",
              "(smoke _|_ asia, xray | lung, dysp, either, tub, bronc)\n",
              "(smoke _|_ xray, tub | lung, dysp, either, asia, bronc)\n",
              "(smoke _|_ xray, either | lung, dysp, tub, asia, bronc)\n",
              "(smoke _|_ xray, dysp | lung, either, tub, asia, bronc)\n",
              "(smoke _|_ asia | xray, dysp, either, tub, bronc)\n",
              "(smoke _|_ dysp | xray, either, tub, asia, bronc)\n",
              "(smoke _|_ xray | dysp, either, tub, asia, bronc)\n",
              "(smoke _|_ asia | lung, xray, dysp, either, tub, bronc)\n",
              "(smoke _|_ tub | lung, xray, dysp, either, asia, bronc)\n",
              "(smoke _|_ either | lung, xray, dysp, tub, asia, bronc)\n",
              "(smoke _|_ dysp | lung, xray, either, tub, asia, bronc)\n",
              "(smoke _|_ xray | lung, dysp, either, tub, asia, bronc)\n",
              "(lung _|_ asia, tub)\n",
              "(lung _|_ asia, bronc, tub | smoke)\n",
              "(lung _|_ xray | either)\n",
              "(lung _|_ asia | tub)\n",
              "(lung _|_ tub | asia)\n",
              "(lung _|_ asia, tub | bronc)\n",
              "(lung _|_ bronc | smoke, xray)\n",
              "(lung _|_ asia | xray, tub)\n",
              "(lung _|_ xray | dysp, either)\n",
              "(lung _|_ asia | dysp, tub)\n",
              "(lung _|_ bronc, xray, dysp | smoke, either)\n",
              "(lung _|_ asia, bronc | smoke, tub)\n",
              "(lung _|_ bronc, tub | asia, smoke)\n",
              "(lung _|_ asia, tub | smoke, bronc)\n",
              "(lung _|_ asia, xray | either, tub)\n",
              "(lung _|_ xray | asia, either)\n",
              "(lung _|_ xray, dysp | bronc, either)\n",
              "(lung _|_ asia | bronc, tub)\n",
              "(lung _|_ tub | asia, bronc)\n",
              "(lung _|_ asia | xray, dysp, tub)\n",
              "(lung _|_ bronc, dysp | smoke, xray, either)\n",
              "(lung _|_ asia, bronc | smoke, xray, tub)\n",
              "(lung _|_ bronc | asia, smoke, xray)\n",
              "(lung _|_ asia | xray, either, tub)\n",
              "(lung _|_ dysp | bronc, xray, either)\n",
              "(lung _|_ asia | bronc, xray, tub)\n",
              "(lung _|_ bronc, xray | smoke, dysp, either)\n",
              "(lung _|_ asia | smoke, dysp, tub)\n",
              "(lung _|_ asia, xray | tub, dysp, either)\n",
              "(lung _|_ xray | asia, dysp, either)\n",
              "(lung _|_ xray | bronc, dysp, either)\n",
              "(lung _|_ asia | bronc, dysp, tub)\n",
              "(lung _|_ asia, bronc, dysp, xray | smoke, either, tub)\n",
              "(lung _|_ bronc, dysp, xray | asia, smoke, either)\n",
              "(lung _|_ xray, dysp | smoke, bronc, either)\n",
              "(lung _|_ bronc | asia, smoke, tub)\n",
              "(lung _|_ asia | smoke, bronc, tub)\n",
              "(lung _|_ tub | asia, smoke, bronc)\n",
              "(lung _|_ xray | asia, either, tub)\n",
              "(lung _|_ asia, xray, dysp | bronc, either, tub)\n",
              "(lung _|_ xray, dysp | asia, bronc, either)\n",
              "(lung _|_ bronc | smoke, xray, dysp, either)\n",
              "(lung _|_ asia | smoke, xray, dysp, tub)\n",
              "(lung _|_ asia | tub, xray, dysp, either)\n",
              "(lung _|_ asia | bronc, xray, dysp, tub)\n",
              "(lung _|_ asia, bronc, dysp | smoke, xray, either, tub)\n",
              "(lung _|_ bronc, dysp | asia, smoke, xray, either)\n",
              "(lung _|_ dysp | bronc, smoke, xray, either)\n",
              "(lung _|_ bronc | asia, smoke, xray, tub)\n",
              "(lung _|_ asia | bronc, smoke, xray, tub)\n",
              "(lung _|_ asia, dysp | bronc, xray, either, tub)\n",
              "(lung _|_ dysp | asia, bronc, xray, either)\n",
              "(lung _|_ asia, bronc, xray | tub, smoke, dysp, either)\n",
              "(lung _|_ bronc, xray | asia, smoke, dysp, either)\n",
              "(lung _|_ xray | smoke, bronc, dysp, either)\n",
              "(lung _|_ asia | smoke, bronc, dysp, tub)\n",
              "(lung _|_ xray | tub, asia, dysp, either)\n",
              "(lung _|_ asia, xray | tub, bronc, dysp, either)\n",
              "(lung _|_ xray | asia, bronc, dysp, either)\n",
              "(lung _|_ bronc, dysp, xray | asia, smoke, either, tub)\n",
              "(lung _|_ asia, xray, dysp | smoke, bronc, either, tub)\n",
              "(lung _|_ xray, dysp | asia, smoke, bronc, either)\n",
              "(lung _|_ xray, dysp | asia, bronc, either, tub)\n",
              "(lung _|_ asia, bronc | xray, dysp, smoke, either, tub)\n",
              "(lung _|_ bronc | xray, dysp, smoke, either, asia)\n",
              "(lung _|_ asia | xray, dysp, smoke, tub, bronc)\n",
              "(lung _|_ asia | xray, dysp, either, tub, bronc)\n",
              "(lung _|_ bronc, dysp | xray, smoke, either, tub, asia)\n",
              "(lung _|_ asia, dysp | xray, smoke, either, tub, bronc)\n",
              "(lung _|_ dysp | xray, smoke, either, asia, bronc)\n",
              "(lung _|_ dysp | xray, either, tub, asia, bronc)\n",
              "(lung _|_ bronc, xray | dysp, smoke, either, tub, asia)\n",
              "(lung _|_ asia, xray | dysp, smoke, either, tub, bronc)\n",
              "(lung _|_ xray | dysp, smoke, either, asia, bronc)\n",
              "(lung _|_ xray | dysp, either, tub, asia, bronc)\n",
              "(lung _|_ xray, dysp | smoke, either, tub, asia, bronc)\n",
              "(lung _|_ bronc | xray, dysp, smoke, either, tub, asia)\n",
              "(lung _|_ asia | xray, dysp, smoke, either, tub, bronc)\n",
              "(lung _|_ dysp | xray, smoke, either, tub, asia, bronc)\n",
              "(lung _|_ xray | dysp, smoke, either, tub, asia, bronc)\n",
              "(either _|_ smoke, bronc | lung)\n",
              "(either _|_ bronc | smoke)\n",
              "(either _|_ asia | tub)\n",
              "(either _|_ smoke, bronc | lung, xray)\n",
              "(either _|_ bronc | smoke, lung)\n",
              "(either _|_ asia, smoke, bronc | lung, tub)\n",
              "(either _|_ smoke, bronc | asia, lung)\n",
              "(either _|_ smoke | bronc, lung)\n",
              "(either _|_ bronc | smoke, xray)\n",
              "(either _|_ asia | xray, tub)\n",
              "(either _|_ asia | dysp, tub)\n",
              "(either _|_ asia, bronc | smoke, tub)\n",
              "(either _|_ bronc | asia, smoke)\n",
              "(either _|_ asia | bronc, tub)\n",
              "(either _|_ bronc | smoke, lung, xray)\n",
              "(either _|_ asia, smoke, bronc | lung, xray, tub)\n",
              "(either _|_ smoke, bronc | asia, lung, xray)\n",
              "(either _|_ smoke | bronc, lung, xray)\n",
              "(either _|_ asia | lung, dysp, tub)\n",
              "(either _|_ smoke | bronc, lung, dysp)\n",
              "(either _|_ asia, bronc | smoke, lung, tub)\n",
              "(either _|_ bronc | asia, smoke, lung)\n",
              "(either _|_ smoke, bronc | asia, lung, tub)\n",
              "(either _|_ asia, smoke | bronc, lung, tub)\n",
              "(either _|_ smoke | asia, bronc, lung)\n",
              "(either _|_ asia | xray, dysp, tub)\n",
              "(either _|_ asia, bronc | smoke, xray, tub)\n",
              "(either _|_ bronc | asia, smoke, xray)\n",
              "(either _|_ asia | bronc, xray, tub)\n",
              "(either _|_ asia | smoke, dysp, tub)\n",
              "(either _|_ asia | bronc, dysp, tub)\n",
              "(either _|_ bronc | asia, smoke, tub)\n",
              "(either _|_ asia | smoke, bronc, tub)\n",
              "(either _|_ asia | lung, dysp, xray, tub)\n",
              "(either _|_ smoke | bronc, lung, dysp, xray)\n",
              "(either _|_ asia, bronc | smoke, lung, xray, tub)\n",
              "(either _|_ bronc | asia, smoke, lung, xray)\n",
              "(either _|_ smoke, bronc | asia, lung, xray, tub)\n",
              "(either _|_ asia, smoke | bronc, lung, xray, tub)\n",
              "(either _|_ smoke | asia, bronc, lung, xray)\n",
              "(either _|_ asia | smoke, lung, dysp, tub)\n",
              "(either _|_ asia, smoke | bronc, lung, dysp, tub)\n",
              "(either _|_ smoke | asia, bronc, lung, dysp)\n",
              "(either _|_ bronc | asia, smoke, lung, tub)\n",
              "(either _|_ asia | bronc, smoke, lung, tub)\n",
              "(either _|_ smoke | asia, bronc, lung, tub)\n",
              "(either _|_ asia | smoke, xray, dysp, tub)\n",
              "(either _|_ asia | bronc, xray, dysp, tub)\n",
              "(either _|_ bronc | asia, smoke, xray, tub)\n",
              "(either _|_ asia | bronc, smoke, xray, tub)\n",
              "(either _|_ asia | smoke, bronc, dysp, tub)\n",
              "(either _|_ asia | lung, xray, dysp, smoke, tub)\n",
              "(either _|_ asia, smoke | lung, xray, dysp, tub, bronc)\n",
              "(either _|_ smoke | lung, xray, dysp, asia, bronc)\n",
              "(either _|_ bronc | lung, xray, smoke, tub, asia)\n",
              "(either _|_ asia | lung, xray, smoke, tub, bronc)\n",
              "(either _|_ smoke | lung, xray, tub, asia, bronc)\n",
              "(either _|_ asia | lung, dysp, smoke, tub, bronc)\n",
              "(either _|_ smoke | lung, dysp, tub, asia, bronc)\n",
              "(either _|_ asia | xray, dysp, smoke, tub, bronc)\n",
              "(either _|_ asia | lung, xray, dysp, smoke, tub, bronc)\n",
              "(either _|_ smoke | lung, xray, dysp, tub, asia, bronc)\n",
              "(xray _|_ smoke, bronc | lung)\n",
              "(xray _|_ bronc | smoke)\n",
              "(xray _|_ asia, lung, dysp, smoke, bronc, tub | either)\n",
              "(xray _|_ asia | tub)\n",
              "(xray _|_ bronc | smoke, lung)\n",
              "(xray _|_ asia, dysp, smoke, bronc, tub | lung, either)\n",
              "(xray _|_ asia, smoke, bronc | lung, tub)\n",
              "(xray _|_ smoke, bronc | asia, lung)\n",
              "(xray _|_ smoke | bronc, lung)\n",
              "(xray _|_ asia, lung, smoke, bronc, tub | dysp, either)\n",
              "(xray _|_ asia | dysp, tub)\n",
              "(xray _|_ asia, lung, dysp, bronc, tub | smoke, either)\n",
              "(xray _|_ asia, bronc | smoke, tub)\n",
              "(xray _|_ bronc | asia, smoke)\n",
              "(xray _|_ asia, lung, dysp, smoke, bronc | either, tub)\n",
              "(xray _|_ lung, dysp, smoke, bronc, tub | asia, either)\n",
              "(xray _|_ asia, lung, dysp, smoke, tub | bronc, either)\n",
              "(xray _|_ asia | bronc, tub)\n",
              "(xray _|_ asia, smoke, bronc, tub | lung, dysp, either)\n",
              "(xray _|_ asia | lung, dysp, tub)\n",
              "(xray _|_ smoke | bronc, lung, dysp)\n",
              "(xray _|_ asia, bronc, dysp, tub | smoke, lung, either)\n",
              "(xray _|_ asia, bronc | smoke, lung, tub)\n",
              "(xray _|_ bronc | asia, smoke, lung)\n",
              "(xray _|_ asia, smoke, bronc, dysp | lung, either, tub)\n",
              "(xray _|_ smoke, bronc, dysp, tub | asia, lung, either)\n",
              "(xray _|_ asia, smoke, dysp, tub | bronc, lung, either)\n",
              "(xray _|_ smoke, bronc | asia, lung, tub)\n",
              "(xray _|_ asia, smoke | bronc, lung, tub)\n",
              "(xray _|_ smoke | asia, bronc, lung)\n",
              "(xray _|_ asia, bronc, lung, tub | smoke, dysp, either)\n",
              "(xray _|_ asia | smoke, dysp, tub)\n",
              "(xray _|_ asia, smoke, bronc, lung | tub, dysp, either)\n",
              "(xray _|_ smoke, bronc, lung, tub | asia, dysp, either)\n",
              "(xray _|_ asia, smoke, lung, tub | bronc, dysp, either)\n",
              "(xray _|_ asia | bronc, dysp, tub)\n",
              "(xray _|_ asia, bronc, dysp, lung | smoke, either, tub)\n",
              "(xray _|_ bronc, dysp, lung, tub | asia, smoke, either)\n",
              "(xray _|_ asia, lung, dysp, tub | smoke, bronc, either)\n",
              "(xray _|_ bronc | asia, smoke, tub)\n",
              "(xray _|_ asia | smoke, bronc, tub)\n",
              "(xray _|_ smoke, bronc, dysp, lung | asia, either, tub)\n",
              "(xray _|_ asia, smoke, lung, dysp | bronc, either, tub)\n",
              "(xray _|_ smoke, lung, dysp, tub | asia, bronc, either)\n",
              "(xray _|_ asia, bronc, tub | smoke, lung, dysp, either)\n",
              "(xray _|_ asia | smoke, lung, dysp, tub)\n",
              "(xray _|_ asia, smoke, bronc | tub, lung, dysp, either)\n",
              "(xray _|_ smoke, bronc, tub | asia, lung, dysp, either)\n",
              "(xray _|_ asia, smoke, tub | bronc, lung, dysp, either)\n",
              "(xray _|_ asia, smoke | bronc, lung, dysp, tub)\n",
              "(xray _|_ smoke | asia, bronc, lung, dysp)\n",
              "(xray _|_ asia, bronc, dysp | smoke, lung, either, tub)\n",
              "(xray _|_ bronc, dysp, tub | asia, smoke, lung, either)\n",
              "(xray _|_ asia, dysp, tub | bronc, smoke, lung, either)\n",
              "(xray _|_ bronc | asia, smoke, lung, tub)\n",
              "(xray _|_ asia | bronc, smoke, lung, tub)\n",
              "(xray _|_ smoke, bronc, dysp | asia, lung, either, tub)\n",
              "(xray _|_ asia, smoke, dysp | bronc, lung, either, tub)\n",
              "(xray _|_ smoke, dysp, tub | asia, bronc, lung, either)\n",
              "(xray _|_ smoke | asia, bronc, lung, tub)\n",
              "(xray _|_ asia, bronc, lung | tub, smoke, dysp, either)\n",
              "(xray _|_ bronc, lung, tub | asia, smoke, dysp, either)\n",
              "(xray _|_ asia, lung, tub | smoke, bronc, dysp, either)\n",
              "(xray _|_ asia | smoke, bronc, dysp, tub)\n",
              "(xray _|_ smoke, bronc, lung | tub, asia, dysp, either)\n",
              "(xray _|_ asia, smoke, lung | tub, bronc, dysp, either)\n",
              "(xray _|_ smoke, lung, tub | asia, bronc, dysp, either)\n",
              "(xray _|_ bronc, dysp, lung | asia, smoke, either, tub)\n",
              "(xray _|_ asia, lung, dysp | smoke, bronc, either, tub)\n",
              "(xray _|_ lung, dysp, tub | asia, smoke, bronc, either)\n",
              "(xray _|_ smoke, lung, dysp | asia, bronc, either, tub)\n",
              "(xray _|_ asia, bronc | lung, dysp, smoke, either, tub)\n",
              "(xray _|_ bronc, tub | lung, dysp, smoke, either, asia)\n",
              "(xray _|_ asia, tub | lung, dysp, smoke, either, bronc)\n",
              "(xray _|_ asia | lung, dysp, smoke, tub, bronc)\n",
              "(xray _|_ smoke, bronc | lung, dysp, either, tub, asia)\n",
              "(xray _|_ asia, smoke | lung, dysp, either, tub, bronc)\n",
              "(xray _|_ smoke, tub | lung, dysp, either, asia, bronc)\n",
              "(xray _|_ smoke | lung, dysp, tub, asia, bronc)\n",
              "(xray _|_ bronc, dysp | lung, smoke, either, tub, asia)\n",
              "(xray _|_ asia, dysp | lung, smoke, either, tub, bronc)\n",
              "(xray _|_ dysp, tub | lung, smoke, either, asia, bronc)\n",
              "(xray _|_ smoke, dysp | lung, either, tub, asia, bronc)\n",
              "(xray _|_ bronc, lung | dysp, smoke, either, tub, asia)\n",
              "(xray _|_ asia, lung | dysp, smoke, either, tub, bronc)\n",
              "(xray _|_ lung, tub | dysp, smoke, either, asia, bronc)\n",
              "(xray _|_ smoke, lung | dysp, either, tub, asia, bronc)\n",
              "(xray _|_ lung, dysp | smoke, either, tub, asia, bronc)\n",
              "(xray _|_ bronc | lung, dysp, smoke, either, tub, asia)\n",
              "(xray _|_ asia | lung, dysp, smoke, either, tub, bronc)\n",
              "(xray _|_ tub | lung, dysp, smoke, either, asia, bronc)\n",
              "(xray _|_ smoke | lung, dysp, either, tub, asia, bronc)\n",
              "(xray _|_ dysp | lung, smoke, either, tub, asia, bronc)\n",
              "(xray _|_ lung | dysp, smoke, either, tub, asia, bronc)\n",
              "(dysp _|_ xray | either)\n",
              "(dysp _|_ asia | tub)\n",
              "(dysp _|_ asia, xray, tub | lung, either)\n",
              "(dysp _|_ asia | lung, tub)\n",
              "(dysp _|_ smoke | bronc, lung)\n",
              "(dysp _|_ asia | xray, tub)\n",
              "(dysp _|_ asia, lung, xray, tub | smoke, either)\n",
              "(dysp _|_ asia | smoke, tub)\n",
              "(dysp _|_ asia, xray | either, tub)\n",
              "(dysp _|_ xray | asia, either)\n",
              "(dysp _|_ asia, lung, xray, smoke, tub | bronc, either)\n",
              "(dysp _|_ asia | bronc, tub)\n",
              "(dysp _|_ asia, tub | lung, either, xray)\n",
              "(dysp _|_ asia | lung, xray, tub)\n",
              "(dysp _|_ smoke | bronc, lung, xray)\n",
              "(dysp _|_ asia, xray, tub | smoke, lung, either)\n",
              "(dysp _|_ asia | smoke, lung, tub)\n",
              "(dysp _|_ asia, xray | lung, either, tub)\n",
              "(dysp _|_ xray, tub | asia, lung, either)\n",
              "(dysp _|_ asia, smoke, xray, tub | bronc, lung, either)\n",
              "(dysp _|_ asia, smoke | bronc, lung, tub)\n",
              "(dysp _|_ smoke | asia, bronc, lung)\n",
              "(dysp _|_ asia, lung, tub | smoke, xray, either)\n",
              "(dysp _|_ asia | smoke, xray, tub)\n",
              "(dysp _|_ asia | xray, either, tub)\n",
              "(dysp _|_ asia, smoke, lung, tub | bronc, xray, either)\n",
              "(dysp _|_ asia | bronc, xray, tub)\n",
              "(dysp _|_ asia, lung, xray | smoke, either, tub)\n",
              "(dysp _|_ lung, xray, tub | asia, smoke, either)\n",
              "(dysp _|_ asia, lung, xray, tub | smoke, bronc, either)\n",
              "(dysp _|_ asia | smoke, bronc, tub)\n",
              "(dysp _|_ xray | asia, either, tub)\n",
              "(dysp _|_ asia, smoke, lung, xray | bronc, either, tub)\n",
              "(dysp _|_ smoke, lung, xray, tub | asia, bronc, either)\n",
              "(dysp _|_ asia, tub | smoke, lung, either, xray)\n",
              "(dysp _|_ asia | smoke, lung, xray, tub)\n",
              "(dysp _|_ asia | lung, either, xray, tub)\n",
              "(dysp _|_ tub | asia, lung, either, xray)\n",
              "(dysp _|_ asia, smoke, tub | bronc, lung, either, xray)\n",
              "(dysp _|_ asia, smoke | bronc, lung, xray, tub)\n",
              "(dysp _|_ smoke | asia, bronc, lung, xray)\n",
              "(dysp _|_ asia, xray | smoke, lung, either, tub)\n",
              "(dysp _|_ xray, tub | asia, smoke, lung, either)\n",
              "(dysp _|_ asia, xray, tub | bronc, smoke, lung, either)\n",
              "(dysp _|_ asia | bronc, smoke, lung, tub)\n",
              "(dysp _|_ xray | asia, lung, either, tub)\n",
              "(dysp _|_ asia, smoke, xray | bronc, lung, either, tub)\n",
              "(dysp _|_ smoke, xray, tub | asia, bronc, lung, either)\n",
              "(dysp _|_ smoke | asia, bronc, lung, tub)\n",
              "(dysp _|_ asia, lung | smoke, xray, either, tub)\n",
              "(dysp _|_ lung, tub | asia, smoke, xray, either)\n",
              "(dysp _|_ asia, lung, tub | bronc, smoke, xray, either)\n",
              "(dysp _|_ asia | bronc, smoke, xray, tub)\n",
              "(dysp _|_ asia, smoke, lung | bronc, xray, either, tub)\n",
              "(dysp _|_ smoke, lung, tub | asia, bronc, xray, either)\n",
              "(dysp _|_ lung, xray | asia, smoke, either, tub)\n",
              "(dysp _|_ asia, lung, xray | smoke, bronc, either, tub)\n",
              "(dysp _|_ lung, xray, tub | asia, smoke, bronc, either)\n",
              "(dysp _|_ smoke, lung, xray | asia, bronc, either, tub)\n",
              "(dysp _|_ asia | lung, xray, smoke, either, tub)\n",
              "(dysp _|_ tub | lung, xray, smoke, either, asia)\n",
              "(dysp _|_ asia, tub | lung, xray, smoke, either, bronc)\n",
              "(dysp _|_ asia | lung, xray, smoke, tub, bronc)\n",
              "(dysp _|_ asia, smoke | lung, xray, either, tub, bronc)\n",
              "(dysp _|_ smoke, tub | lung, xray, either, asia, bronc)\n",
              "(dysp _|_ smoke | lung, xray, tub, asia, bronc)\n",
              "(dysp _|_ xray | lung, smoke, either, tub, asia)\n",
              "(dysp _|_ asia, xray | lung, smoke, either, tub, bronc)\n",
              "(dysp _|_ xray, tub | lung, smoke, either, asia, bronc)\n",
              "(dysp _|_ smoke, xray | lung, either, tub, asia, bronc)\n",
              "(dysp _|_ lung | xray, smoke, either, tub, asia)\n",
              "(dysp _|_ asia, lung | xray, smoke, either, tub, bronc)\n",
              "(dysp _|_ lung, tub | xray, smoke, either, asia, bronc)\n",
              "(dysp _|_ smoke, lung | xray, either, tub, asia, bronc)\n",
              "(dysp _|_ lung, xray | smoke, either, tub, asia, bronc)\n",
              "(dysp _|_ asia | lung, xray, smoke, either, tub, bronc)\n",
              "(dysp _|_ tub | lung, xray, smoke, either, asia, bronc)\n",
              "(dysp _|_ smoke | lung, xray, either, tub, asia, bronc)\n",
              "(dysp _|_ xray | lung, smoke, either, tub, asia, bronc)\n",
              "(dysp _|_ lung | xray, smoke, either, tub, asia, bronc)\n",
              "(bronc _|_ asia, tub)\n",
              "(bronc _|_ asia, xray, either, tub | lung)\n",
              "(bronc _|_ asia, lung, xray, either, tub | smoke)\n",
              "(bronc _|_ xray | either)\n",
              "(bronc _|_ asia | tub)\n",
              "(bronc _|_ tub | asia)\n",
              "(bronc _|_ asia, either, tub | lung, xray)\n",
              "(bronc _|_ asia, xray, either, tub | smoke, lung)\n",
              "(bronc _|_ asia, xray, tub | lung, either)\n",
              "(bronc _|_ asia, xray, either | lung, tub)\n",
              "(bronc _|_ xray, either, tub | asia, lung)\n",
              "(bronc _|_ asia, lung, either, tub | smoke, xray)\n",
              "(bronc _|_ asia | xray, tub)\n",
              "(bronc _|_ xray | dysp, either)\n",
              "(bronc _|_ asia | dysp, tub)\n",
              "(bronc _|_ asia, lung, xray, tub | smoke, either)\n",
              "(bronc _|_ asia, lung, either, xray | smoke, tub)\n",
              "(bronc _|_ lung, either, xray, tub | asia, smoke)\n",
              "(bronc _|_ asia, xray | either, tub)\n",
              "(bronc _|_ xray | asia, either)\n",
              "(bronc _|_ asia, either, tub | smoke, lung, xray)\n",
              "(bronc _|_ asia, tub | lung, either, xray)\n",
              "(bronc _|_ asia, either | lung, xray, tub)\n",
              "(bronc _|_ either, tub | asia, lung, xray)\n",
              "(bronc _|_ asia, xray, tub | lung, dysp, either)\n",
              "(bronc _|_ asia | lung, dysp, tub)\n",
              "(bronc _|_ asia, xray, tub | smoke, lung, either)\n",
              "(bronc _|_ asia, xray, either | smoke, lung, tub)\n",
              "(bronc _|_ xray, either, tub | asia, smoke, lung)\n",
              "(bronc _|_ asia, xray | lung, either, tub)\n",
              "(bronc _|_ xray, tub | asia, lung, either)\n",
              "(bronc _|_ xray, either | asia, lung, tub)\n",
              "(bronc _|_ asia | xray, dysp, tub)\n",
              "(bronc _|_ asia, lung, tub | smoke, xray, either)\n",
              "(bronc _|_ asia, lung, either | smoke, xray, tub)\n",
              "(bronc _|_ lung, either, tub | asia, smoke, xray)\n",
              "(bronc _|_ asia | xray, either, tub)\n",
              "(bronc _|_ asia, lung, xray, tub | smoke, dysp, either)\n",
              "(bronc _|_ asia | smoke, dysp, tub)\n",
              "(bronc _|_ asia, xray | tub, dysp, either)\n",
              "(bronc _|_ xray | asia, dysp, either)\n",
              "(bronc _|_ asia, lung, xray | smoke, either, tub)\n",
              "(bronc _|_ lung, xray, tub | asia, smoke, either)\n",
              "(bronc _|_ lung, either, xray | asia, smoke, tub)\n",
              "(bronc _|_ xray | asia, either, tub)\n",
              "(bronc _|_ asia, tub | lung, dysp, xray, either)\n",
              "(bronc _|_ asia | lung, dysp, xray, tub)\n",
              "(bronc _|_ asia, tub | smoke, lung, either, xray)\n",
              "(bronc _|_ asia, either | smoke, lung, xray, tub)\n",
              "(bronc _|_ either, tub | asia, smoke, lung, xray)\n",
              "(bronc _|_ asia | lung, either, xray, tub)\n",
              "(bronc _|_ tub | asia, lung, either, xray)\n",
              "(bronc _|_ either | asia, lung, xray, tub)\n",
              "(bronc _|_ asia, xray, tub | smoke, lung, dysp, either)\n",
              "(bronc _|_ asia | smoke, lung, dysp, tub)\n",
              "(bronc _|_ asia, xray | tub, lung, dysp, either)\n",
              "(bronc _|_ xray, tub | asia, lung, dysp, either)\n",
              "(bronc _|_ asia, xray | smoke, lung, either, tub)\n",
              "(bronc _|_ xray, tub | asia, smoke, lung, either)\n",
              "(bronc _|_ xray, either | asia, smoke, lung, tub)\n",
              "(bronc _|_ xray | asia, lung, either, tub)\n",
              "(bronc _|_ asia, lung, tub | smoke, xray, dysp, either)\n",
              "(bronc _|_ asia | smoke, xray, dysp, tub)\n",
              "(bronc _|_ asia | tub, xray, dysp, either)\n",
              "(bronc _|_ asia, lung | smoke, xray, either, tub)\n",
              "(bronc _|_ lung, tub | asia, smoke, xray, either)\n",
              "(bronc _|_ lung, either | asia, smoke, xray, tub)\n",
              "(bronc _|_ asia, lung, xray | tub, smoke, dysp, either)\n",
              "(bronc _|_ lung, xray, tub | asia, smoke, dysp, either)\n",
              "(bronc _|_ xray | tub, asia, dysp, either)\n",
              "(bronc _|_ lung, xray | asia, smoke, either, tub)\n",
              "(bronc _|_ asia, tub | lung, xray, dysp, smoke, either)\n",
              "(bronc _|_ asia | lung, xray, dysp, smoke, tub)\n",
              "(bronc _|_ asia | lung, xray, dysp, either, tub)\n",
              "(bronc _|_ tub | lung, xray, dysp, either, asia)\n",
              "(bronc _|_ asia | lung, xray, smoke, either, tub)\n",
              "(bronc _|_ tub | lung, xray, smoke, either, asia)\n",
              "(bronc _|_ either | lung, xray, smoke, tub, asia)\n",
              "(bronc _|_ asia, xray | lung, dysp, smoke, either, tub)\n",
              "(bronc _|_ xray, tub | lung, dysp, smoke, either, asia)\n",
              "(bronc _|_ xray | lung, dysp, either, tub, asia)\n",
              "(bronc _|_ xray | lung, smoke, either, tub, asia)\n",
              "(bronc _|_ asia, lung | xray, dysp, smoke, either, tub)\n",
              "(bronc _|_ lung, tub | xray, dysp, smoke, either, asia)\n",
              "(bronc _|_ lung | xray, smoke, either, tub, asia)\n",
              "(bronc _|_ lung, xray | dysp, smoke, either, tub, asia)\n",
              "(bronc _|_ asia | lung, xray, dysp, smoke, either, tub)\n",
              "(bronc _|_ tub | lung, xray, dysp, smoke, either, asia)\n",
              "(bronc _|_ xray | lung, dysp, smoke, either, tub, asia)\n",
              "(bronc _|_ lung | xray, dysp, smoke, either, tub, asia)"
            ]
          },
          "metadata": {
            "tags": []
          },
          "execution_count": 46
        }
      ]
    },
    {
      "cell_type": "code",
      "metadata": {
        "id": "Oy8eRtNlgBhd",
        "colab_type": "code",
        "colab": {
          "base_uri": "https://localhost:8080/",
          "height": 34
        },
        "outputId": "c49b7fcd-fb50-41ab-9cad-4103e175313d"
      },
      "source": [
        "chest_clinic_model.nodes()"
      ],
      "execution_count": null,
      "outputs": [
        {
          "output_type": "execute_result",
          "data": {
            "text/plain": [
              "NodeView(('asia', 'tub', 'smoke', 'lung', 'either', 'xray', 'dysp', 'bronc'))"
            ]
          },
          "metadata": {
            "tags": []
          },
          "execution_count": 47
        }
      ]
    },
    {
      "cell_type": "code",
      "metadata": {
        "id": "gNw5ngEYgldN",
        "colab_type": "code",
        "colab": {
          "base_uri": "https://localhost:8080/",
          "height": 34
        },
        "outputId": "d17ac6ad-54ae-4b56-eca7-a36fd53a8a20"
      },
      "source": [
        "chest_clinic_model.edges()"
      ],
      "execution_count": null,
      "outputs": [
        {
          "output_type": "execute_result",
          "data": {
            "text/plain": [
              "OutEdgeView([('asia', 'tub'), ('tub', 'either'), ('smoke', 'lung'), ('smoke', 'bronc'), ('lung', 'either'), ('either', 'xray'), ('either', 'dysp'), ('bronc', 'dysp')])"
            ]
          },
          "metadata": {
            "tags": []
          },
          "execution_count": 48
        }
      ]
    },
    {
      "cell_type": "code",
      "metadata": {
        "id": "ORGGC815gonC",
        "colab_type": "code",
        "colab": {
          "base_uri": "https://localhost:8080/",
          "height": 151
        },
        "outputId": "9761f800-e236-43ee-e001-5fbc6a73d7f0"
      },
      "source": [
        "chest_clinic_model.get_cpds()"
      ],
      "execution_count": null,
      "outputs": [
        {
          "output_type": "execute_result",
          "data": {
            "text/plain": [
              "[<TabularCPD representing P(asia:2) at 0x7f567d3a30f0>,\n",
              " <TabularCPD representing P(smoke:2) at 0x7f567d3a3160>,\n",
              " <TabularCPD representing P(tub:2 | asia:2) at 0x7f567d3a30b8>,\n",
              " <TabularCPD representing P(lung:2 | smoke:2) at 0x7f567d3a3198>,\n",
              " <TabularCPD representing P(either:2 | tub:2, lung:2) at 0x7f567d3a3208>,\n",
              " <TabularCPD representing P(bronc:2 | smoke:2) at 0x7f567d3a31d0>,\n",
              " <TabularCPD representing P(xray:2 | either:2) at 0x7f567d3a3240>,\n",
              " <TabularCPD representing P(dysp:2 | bronc:2, either:2) at 0x7f567d3a3278>]"
            ]
          },
          "metadata": {
            "tags": []
          },
          "execution_count": 49
        }
      ]
    },
    {
      "cell_type": "code",
      "metadata": {
        "id": "sC5D-xPNg1YF",
        "colab_type": "code",
        "colab": {
          "base_uri": "https://localhost:8080/",
          "height": 50
        },
        "outputId": "4c154e57-e8a8-4485-8227-b5a873f231c3"
      },
      "source": [
        "#inference of bayesian model\n",
        " from pgmpy.inference import VariableElimination\n",
        "inference = VariableElimination(chest_clinic_model)\n",
        "Clinic_prob = inference.query(variables=['tub','lung','bronc'],\n",
        "                               evidence={'asia':0,'xray':0})"
      ],
      "execution_count": null,
      "outputs": [
        {
          "output_type": "stream",
          "text": [
            "Finding Elimination Order: : 100%|██████████| 3/3 [00:00<00:00, 1979.38it/s]\n",
            "Eliminating: smoke: 100%|██████████| 3/3 [00:00<00:00, 454.01it/s]\n"
          ],
          "name": "stderr"
        }
      ]
    },
    {
      "cell_type": "code",
      "metadata": {
        "id": "MZi7EfQ7r1io",
        "colab_type": "code",
        "colab": {
          "base_uri": "https://localhost:8080/",
          "height": 336
        },
        "outputId": "6248e648-6f6c-450c-b972-abc05cd672a9"
      },
      "source": [
        "print(Clinic_prob)"
      ],
      "execution_count": null,
      "outputs": [
        {
          "output_type": "stream",
          "text": [
            "+--------+----------+---------+-----------------------+\n",
            "| tub    | bronc    | lung    |   phi(tub,bronc,lung) |\n",
            "+========+==========+=========+=======================+\n",
            "| tub(0) | bronc(0) | lung(0) |                0.0106 |\n",
            "+--------+----------+---------+-----------------------+\n",
            "| tub(0) | bronc(0) | lung(1) |                0.1413 |\n",
            "+--------+----------+---------+-----------------------+\n",
            "| tub(0) | bronc(1) | lung(0) |                0.0079 |\n",
            "+--------+----------+---------+-----------------------+\n",
            "| tub(0) | bronc(1) | lung(1) |                0.1778 |\n",
            "+--------+----------+---------+-----------------------+\n",
            "| tub(1) | bronc(0) | lung(0) |                0.2021 |\n",
            "+--------+----------+---------+-----------------------+\n",
            "| tub(1) | bronc(0) | lung(1) |                0.1370 |\n",
            "+--------+----------+---------+-----------------------+\n",
            "| tub(1) | bronc(1) | lung(0) |                0.1508 |\n",
            "+--------+----------+---------+-----------------------+\n",
            "| tub(1) | bronc(1) | lung(1) |                0.1724 |\n",
            "+--------+----------+---------+-----------------------+\n"
          ],
          "name": "stdout"
        }
      ]
    },
    {
      "cell_type": "markdown",
      "metadata": {
        "id": "r-4IEAtcEbAv",
        "colab_type": "text"
      },
      "source": [
        "###The joint probability of \"tub=yes, lung=yes, bronc=yes\", given evidence that \"asia=yes, xray=yes\" is  0.016"
      ]
    },
    {
      "cell_type": "code",
      "metadata": {
        "id": "-Tm4myIZXXNC",
        "colab_type": "code",
        "colab": {
          "base_uri": "https://localhost:8080/",
          "height": 319
        },
        "outputId": "ea029b16-2ff6-4975-8c7a-23b80dd5e3cf"
      },
      "source": [
        "import networkx as nx\n",
        "nx.draw(chest_clinic_model, with_labels=True)\n",
        "plt.show()"
      ],
      "execution_count": null,
      "outputs": [
        {
          "output_type": "display_data",
          "data": {
            "image/png": "[encoded data removed]",
            "text/plain": [
              "<Figure size 432x288 with 1 Axes>"
            ]
          },
          "metadata": {
            "tags": []
          }
        }
      ]
    },
    {
      "cell_type": "code",
      "metadata": {
        "id": "mOtOuPRNavum",
        "colab_type": "code",
        "colab": {}
      },
      "source": [
        "Markov_chest_clinic_model=chest_clinic_model.to_markov_model()"
      ],
      "execution_count": null,
      "outputs": []
    },
    {
      "cell_type": "code",
      "metadata": {
        "id": "BVR5hjRFblpv",
        "colab_type": "code",
        "colab": {
          "base_uri": "https://localhost:8080/",
          "height": 319
        },
        "outputId": "d4f57800-bf95-44bf-e011-f956f2d82838"
      },
      "source": [
        "import networkx as nx\n",
        "from matplotlib import pyplot as plt\n",
        "nx.draw(Markov_chest_clinic_model, with_labels=True)\n",
        "from google.colab import files\n",
        "plt.savefig(\"abc.png\")\n",
        "files.download(\"abc.png\") "
      ],
      "execution_count": null,
      "outputs": [
        {
          "output_type": "display_data",
          "data": {
            "image/png": "[encoded data removed]",
            "text/plain": [
              "<Figure size 432x288 with 1 Axes>"
            ]
          },
          "metadata": {
            "tags": []
          }
        }
      ]
    },
    {
      "cell_type": "code",
      "metadata": {
        "id": "0oL_v4k2bqYw",
        "colab_type": "code",
        "colab": {}
      },
      "source": [
        "triangulated_MCCM=Markov_chest_clinic_model.triangulate()"
      ],
      "execution_count": null,
      "outputs": []
    },
    {
      "cell_type": "code",
      "metadata": {
        "id": "lH0AHWvQfM6v",
        "colab_type": "code",
        "colab": {
          "base_uri": "https://localhost:8080/",
          "height": 319
        },
        "outputId": "eb79dd52-5e3f-401a-8a77-b49b627580ef"
      },
      "source": [
        "import networkx as nx\n",
        "nx.draw(triangulated_MCCM, with_labels=True)\n",
        "from google.colab import files\n",
        "plt.savefig(\"traingulated.png\")\n",
        "files.download(\"traingulated.png\") "
      ],
      "execution_count": null,
      "outputs": [
        {
          "output_type": "display_data",
          "data": {
            "image/png": "[encoded data removed]",
            "text/plain": [
              "<Figure size 432x288 with 1 Axes>"
            ]
          },
          "metadata": {
            "tags": []
          }
        }
      ]
    },
    {
      "cell_type": "code",
      "metadata": {
        "id": "bvmpXdH4fQ-z",
        "colab_type": "code",
        "colab": {}
      },
      "source": [
        "Junction_tree_MCCM=triangulated_MCCM.to_junction_tree()"
      ],
      "execution_count": null,
      "outputs": []
    },
    {
      "cell_type": "code",
      "metadata": {
        "id": "V45C9mC8fnyc",
        "colab_type": "code",
        "colab": {}
      },
      "source": [
        ""
      ],
      "execution_count": null,
      "outputs": []
    },
    {
      "cell_type": "code",
      "metadata": {
        "id": "1kLyqG8-fscD",
        "colab_type": "code",
        "colab": {
          "base_uri": "https://localhost:8080/",
          "height": 248
        },
        "outputId": "b808c612-8fa5-4fc3-f3eb-5af8688b4474"
      },
      "source": [
        "fig, ax = plt.subplots(1,1)\n",
        "nx.draw(Junction_tree_MCCM, with_labels=True,ax=ax)\n",
        "ax.set_xbound(-4,4)\n",
        "plt.savefig(\"JT.png\")\n",
        "files.download(\"JT.png\") \n",
        "plt.show()\n",
        "#description = nx.draw_networkx_labels(G,pos,labels=labels)\n"
      ],
      "execution_count": null,
      "outputs": [
        {
          "output_type": "display_data",
          "data": {
            "image/png": "[encoded data removed]",
            "text/plain": [
              "<Figure size 432x288 with 1 Axes>"
            ]
          },
          "metadata": {
            "tags": []
          }
        }
      ]
    },
    {
      "cell_type": "markdown",
      "metadata": {
        "id": "dMYpe044sbGC",
        "colab_type": "text"
      },
      "source": [
        "\n",
        "##Explain why the \"running intersection property\" is satisfied in your junction tree.\n",
        "According to the running intersection property if a variable X is present in two cluster it should also be present in the unique path that connects the two cluster. In our example cluster containing ('tub','lung','smoke','asia')\n",
        "and ('xray','tub','lung','either','bronc') each have variable 'tub' . The two cluster are connected with the cluster('xray','tub','lung') which also has variable tub. hence it follows the property of running the intersection property."
      ]
    },
    {
      "cell_type": "code",
      "metadata": {
        "id": "ynAtbXuLabnp",
        "colab_type": "code",
        "colab": {}
      },
      "source": [
        " "
      ],
      "execution_count": null,
      "outputs": []
    },
    {
      "cell_type": "markdown",
      "metadata": {
        "id": "rfa__XoxEqUm",
        "colab_type": "text"
      },
      "source": [
        "Futher solution written in the report.\n",
        "\n",
        "\n",
        "\n"
      ]
    },
    {
      "cell_type": "code",
      "metadata": {
        "id": "jVUevIn_06yn",
        "colab_type": "code",
        "colab": {}
      },
      "source": [
        ""
      ],
      "execution_count": null,
      "outputs": []
    },
    {
      "cell_type": "markdown",
      "metadata": {
        "id": "CS2e3BIZwL8t",
        "colab_type": "text"
      },
      "source": [
        ""
      ]
    },
    {
      "cell_type": "code",
      "metadata": {
        "id": "HBmZ1MZR0-C6",
        "colab_type": "code",
        "colab": {}
      },
      "source": [
        ""
      ],
      "execution_count": null,
      "outputs": []
    }
  ]
}