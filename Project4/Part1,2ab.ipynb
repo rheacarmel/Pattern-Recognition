{
  "nbformat": 4,
  "nbformat_minor": 0,
  "metadata": {
    "colab": {
      "name": "Part1,2ab.ipynb",
      "provenance": [],
      "collapsed_sections": []
    },
    "kernelspec": {
      "name": "python3",
      "display_name": "Python 3"
    }
  },
  "cells": [
    {
      "cell_type": "code",
      "metadata": {
        "id": "i_KSK8QZw97d",
        "colab_type": "code",
        "colab": {}
      },
      "source": [
        ""
      ],
      "execution_count": null,
      "outputs": []
    },
    {
      "cell_type": "markdown",
      "metadata": {
        "id": "qBgn44yaWrMD",
        "colab_type": "text"
      },
      "source": [
        "#Part 1\n",
        "\n",
        "**Demonstrate that a neural network to maximize the log likelihood of label is one that has softmax output nodes and minimizes the criterion function of the negative log probability of training data set:**\n",
        "\n",
        "A classification task is to categorize an observation to one of the target classes. \n",
        "Consider  x is a feature vector representing the observation and y is the class that the observation belongs to. The goal of the neural network is to find a function y=f(x) that can predict y from x. However in practical classification tasks there exits the misclassification risk due to missing information, noise interference or probabilistic process.\n",
        " the expected risk is defined as \n",
        " $ R(f)=E_{X,Y~p(x,y)}L(f(x),y)$    \n",
        " \n",
        " where $L(f(x),y)$ is the loss function  that calculates the misclassification and p(x,y) is the probability  density function over space X and class Y.\n",
        "\n",
        " As p(x,y) is true but unknown data-generating probability distribution, we draw i.i.d samples from the data space and generate a training set.\n",
        "\n",
        "$S={(x_{1},y_{1}),.....,(x_{m},y_{m})}$\n",
        "\n",
        "which consist of m training samples. Then the risk can be approximated by the empirical risk \n",
        "\n",
        "$R_{s}(f)=\\frac{1}{m}\\sum_{i=1}^{m}L(f(x_{i}),y_{i})$\n",
        "\n",
        "\n",
        "The loss function $L(f(x),y)$ can be flexibly defined to suit the model parameter optimization. In our example we use SGD (stochastic gradient descent). As we are considering a softmax  function as  the output layer non linear activation function . The loss function can be defined as \n",
        "\n",
        "  $L(f(x),y)=E_{p(y|x)}[-logp(y|x)]$\n",
        "  \n",
        "  $L(f(x),y)=-\\sum_{c=1}^{C}p(y_{c}|x)log\\hat{p}(y_{c}|x)$      ------(*)\n",
        "\n",
        "  where C is the class and $p(y_{c}|x);c=1,....,C$ posterior probability of classes .\n",
        "\n",
        "p(y_{c}|x) is the experical distribution of the training set and $\\hat{p}(y_{c}|x)$ is predicted distribution.\n",
        "\n",
        "In classification each training samples is commonly labeled as the correct class it belongs to \n",
        "\n",
        "\n",
        "\n",
        " $  p(y_{c}|x) =\\begin{cases}1       & \\quad \\text{if } x\\in y_{c} \\\\\n",
        " 0  & \\quad \\text{otherwise } \\end{cases}$\n",
        "\n",
        " The equation * is simplified as $L(f(x),y)=-log\\hat p(y_{c}|x)$   \n",
        "\n",
        "\n",
        " The above equation shows the loss function is negative log likelihood of sample x. therefore minimizing the emperical risk is equivalent to maximizing the likelihood. Maximimum likelihood is the a generative training training criterion where only the probability of the correct class is measured for each training set.\n",
        "\n",
        "\n",
        "Ref:https://arxiv.org/pdf/1804.10690.pdf\n",
        "\n",
        "\n",
        "\n",
        "\n",
        "\n",
        "\n",
        "\n",
        "\n",
        "\n",
        "**Demonstrate that a neural network to maximize the a posterior likelihood of observing the training data given a Gaussian prior is one that minimizes the criterion function with L2 regularization.**\n",
        "\n",
        "For a linear model with multivariate normal prior and multivariate normal likelihood . we get a multivariate normal posterior distribution in whoch the mean of the posterior is similar to the L2 regularization.\n",
        "\n",
        "given Gaussian prior as $p(w|\\alpha)=N(w|0,\\alpha^{-1}I)$ ---------(1)\n",
        "\n",
        "Let us consider a continous target random variable t jas a gaussian distribution with mean $y(x,w)$ and variance $\\beta^{-1}$\n",
        " that is \n",
        " $p(t|x,w;\\beta)=N(t|y(x,w),\\beta^{-1})$  -------(2)\n",
        "for an i.i.d data set of N observation $x_{1},.....,x_{N}$ with target values $D={t_{1},.....,t_{N} }$\n",
        "\n",
        "$P(D|w,\\beta)=\\prod_{n=1}^{N} N(t_{n}|y(x_{n},w),\\beta^{-1})$\n",
        "\n",
        "the posterior probability is given as \n",
        "\n",
        "$p(w|D,\\alpha,\\beta)=p(D|w,\\beta)p(w;a) /p(D;\\alpha,\\beta)$\n",
        "\n",
        "$=N(w|0,\\alpha^{-1}I)\\prod_{n=1}^{N}N(t_{n}|y(x,w),\\beta^{-1})/p(D;\\alpha,\\beta)$\n",
        "\n",
        "by taking logorithm on both side we get \n",
        "=\n",
        "\n",
        "=$\\sum_{n} ||y(x_{n};w )-t_{n}||^{2}$\n",
        "\n",
        "from the above equation we can conclude that gaussian distribution is similar to L2 regularization. \n",
        "by maximizing y(x,w) we can get maximum a posteriori estimate. \n",
        "\n",
        "\n",
        "\n",
        "\n",
        "\n",
        "\n",
        "\n",
        "\n"
      ]
    },
    {
      "cell_type": "code",
      "metadata": {
        "id": "hihwioTF6EwA",
        "colab_type": "code",
        "colab": {}
      },
      "source": [
        "#part 2"
      ],
      "execution_count": null,
      "outputs": []
    },
    {
      "cell_type": "code",
      "metadata": {
        "id": "x_qYsMdhxFXu",
        "colab_type": "code",
        "colab": {}
      },
      "source": [
        "from keras.datasets import mnist\n",
        "from sklearn.model_selection import train_test_split\n",
        "import numpy as np\n",
        "from keras.utils import to_categorical\n",
        "import matplotlib.pyplot as plt\n",
        "import keras.backend as K\n",
        "import keras\n",
        "import tensorflow \n",
        "#from tensorflow import optimizers\n",
        " \n",
        "from keras.layers import Flatten\n",
        "from keras.layers import Dense\n",
        "from keras import Sequential\n",
        "from keras.optimizers import SGD\n",
        "\n",
        "(x_train, y_train), (x_test, y_test) = mnist.load_data()\n",
        "x_train=x_train/255.0\n",
        "x_test=x_test/255.0\n",
        "\n",
        "\n",
        "data_set={}  #directory for each class\n",
        "number_output_class=10\n",
        "\n",
        "for i in range(number_output_class):\n",
        "  data_set[i]=[]\n",
        "\n",
        "#group the x_train with respect to y_train labels\n",
        "for i in range(y_train.shape[0]):\n",
        "  data_set[y_train[i]].append(x_train[i,:,:])"
      ],
      "execution_count": null,
      "outputs": []
    },
    {
      "cell_type": "code",
      "metadata": {
        "id": "mQGkB6elliQ5",
        "colab_type": "code",
        "colab": {}
      },
      "source": [
        "\n",
        "x_test,x_val,y_test,y_val=train_test_split(x_test, y_test, test_size=0.2)\n"
      ],
      "execution_count": null,
      "outputs": []
    },
    {
      "cell_type": "code",
      "metadata": {
        "id": "jjfTVwDcmkT5",
        "colab_type": "code",
        "colab": {
          "base_uri": "https://localhost:8080/",
          "height": 34
        },
        "outputId": "b074f29b-0d4b-423f-d359-ea43920433c7"
      },
      "source": [
        "x_val.shape"
      ],
      "execution_count": null,
      "outputs": [
        {
          "output_type": "execute_result",
          "data": {
            "text/plain": [
              "(2000, 28, 28)"
            ]
          },
          "metadata": {
            "tags": []
          },
          "execution_count": 342
        }
      ]
    },
    {
      "cell_type": "code",
      "metadata": {
        "id": "47ML360JxJfo",
        "colab_type": "code",
        "colab": {
          "base_uri": "https://localhost:8080/",
          "height": 185
        },
        "outputId": "fdb7afb3-1177-4fb7-e513-f33bab3b5df8"
      },
      "source": [
        "\n",
        "for i in range(10):\n",
        "\n",
        "   print(\"dataset for label \",i,np.shape(data_set[i]))"
      ],
      "execution_count": null,
      "outputs": [
        {
          "output_type": "stream",
          "text": [
            "dataset for label  0 (5923, 28, 28)\n",
            "dataset for label  1 (6742, 28, 28)\n",
            "dataset for label  2 (5958, 28, 28)\n",
            "dataset for label  3 (6131, 28, 28)\n",
            "dataset for label  4 (5842, 28, 28)\n",
            "dataset for label  5 (5421, 28, 28)\n",
            "dataset for label  6 (5918, 28, 28)\n",
            "dataset for label  7 (6265, 28, 28)\n",
            "dataset for label  8 (5851, 28, 28)\n",
            "dataset for label  9 (5949, 28, 28)\n"
          ],
          "name": "stdout"
        }
      ]
    },
    {
      "cell_type": "code",
      "metadata": {
        "id": "1FcJnUzWxM11",
        "colab_type": "code",
        "colab": {}
      },
      "source": [
        "\n",
        "#get 100 images for each target\n",
        "new_x_train=list()\n",
        "new_y_train=list()\n",
        "for i in range(len(data_set)):\n",
        "  for k in range(100):\n",
        "            new_x_train.append(data_set[i][k])\n",
        "            new_y_train.append(i)"
      ],
      "execution_count": null,
      "outputs": []
    },
    {
      "cell_type": "code",
      "metadata": {
        "id": "Ii228V0vxQR5",
        "colab_type": "code",
        "colab": {}
      },
      "source": [
        "new_x_train=np.asarray(new_x_train)\n",
        "new_y_train=np.asarray(new_y_train)\n",
        "\n",
        "\n"
      ],
      "execution_count": null,
      "outputs": []
    },
    {
      "cell_type": "code",
      "metadata": {
        "id": "6ZG9-uGuxTAH",
        "colab_type": "code",
        "colab": {}
      },
      "source": [
        "#one hot encoding  to change (1000,1) to (1000,10)\n",
        "\n",
        "new_y_train = to_categorical(new_y_train)\n",
        "y_val=to_categorical(y_val)\n",
        "y_test = to_categorical(y_test)\n"
      ],
      "execution_count": null,
      "outputs": []
    },
    {
      "cell_type": "code",
      "metadata": {
        "id": "I3FarzRQRfFz",
        "colab_type": "code",
        "colab": {}
      },
      "source": [
        "#to find the learning speed\n",
        "learning_rate=[]\n",
        "class SGDLearningRateTracker(keras.callbacks.Callback):\n",
        "    \n",
        "       \n",
        "    def on_epoch_end(self, epoch, logs={}):\n",
        "        optimizer = self.model.optimizer\n",
        "        _lr = tf.cast(optimizer.lr, name='ToFloat',dtype='float32')\n",
        "        _decay = tf.cast(optimizer.decay, name='ToFloat',dtype='float32')\n",
        "        _iter = tf.cast(optimizer.iterations, name='ToFloat',dtype='float32')\n",
        "        \n",
        "        _lr = K.eval(_lr * (1. / (1. + _decay * _iter)))\n",
        "        learning_rate.append(_lr)\n",
        "        print(' - LR: {:.6f}\\n'.format(_lr))\n",
        "        "
      ],
      "execution_count": null,
      "outputs": []
    },
    {
      "cell_type": "code",
      "metadata": {
        "id": "C9GLtYxXxZRY",
        "colab_type": "code",
        "colab": {}
      },
      "source": [
        "## 1 hidden layer \n",
        "model=Sequential()\n",
        "model.add(Flatten(input_shape=(28,28)))\n",
        "model.add(Dense(30,activation='sigmoid'))\n",
        "model.add(Dense(10,activation='softmax'))                 \n",
        "sgd=SGD(lr=0.1,decay=0.001)\n",
        "model.compile(loss='categorical_crossentropy',optimizer=sgd,metrics=['accuracy'])"
      ],
      "execution_count": null,
      "outputs": []
    },
    {
      "cell_type": "code",
      "metadata": {
        "id": "1TQ2qZ2t5CwA",
        "colab_type": "code",
        "colab": {
          "base_uri": "https://localhost:8080/",
          "height": 1000
        },
        "outputId": "7d656e81-d95c-43b1-f269-281980a29e30"
      },
      "source": [
        "\n",
        "history=model.fit(new_x_train,new_y_train,validation_data=(x_val,y_val),epochs=30,batch_size=10,callbacks=[SGDLearningRateTracker()])\n"
      ],
      "execution_count": null,
      "outputs": [
        {
          "output_type": "stream",
          "text": [
            "Train on 1000 samples, validate on 2000 samples\n",
            "Epoch 1/30\n",
            "1000/1000 [==============================] - 0s 367us/step - loss: 1.9781 - accuracy: 0.4420 - val_loss: 1.6292 - val_accuracy: 0.6310\n",
            " - LR: 0.090909\n",
            "\n",
            "Epoch 2/30\n",
            "1000/1000 [==============================] - 0s 297us/step - loss: 1.3501 - accuracy: 0.7460 - val_loss: 1.1786 - val_accuracy: 0.7780\n",
            " - LR: 0.083333\n",
            "\n",
            "Epoch 3/30\n",
            "1000/1000 [==============================] - 0s 290us/step - loss: 0.9961 - accuracy: 0.8160 - val_loss: 0.9433 - val_accuracy: 0.7825\n",
            " - LR: 0.076923\n",
            "\n",
            "Epoch 4/30\n",
            "1000/1000 [==============================] - 0s 288us/step - loss: 0.8014 - accuracy: 0.8350 - val_loss: 0.8110 - val_accuracy: 0.8190\n",
            " - LR: 0.071429\n",
            "\n",
            "Epoch 5/30\n",
            "1000/1000 [==============================] - 0s 281us/step - loss: 0.6811 - accuracy: 0.8670 - val_loss: 0.7272 - val_accuracy: 0.8315\n",
            " - LR: 0.066667\n",
            "\n",
            "Epoch 6/30\n",
            "1000/1000 [==============================] - 0s 293us/step - loss: 0.5981 - accuracy: 0.8720 - val_loss: 0.6782 - val_accuracy: 0.8320\n",
            " - LR: 0.062500\n",
            "\n",
            "Epoch 7/30\n",
            "1000/1000 [==============================] - 0s 283us/step - loss: 0.5417 - accuracy: 0.8870 - val_loss: 0.6312 - val_accuracy: 0.8400\n",
            " - LR: 0.058824\n",
            "\n",
            "Epoch 8/30\n",
            "1000/1000 [==============================] - 0s 283us/step - loss: 0.4977 - accuracy: 0.8960 - val_loss: 0.5929 - val_accuracy: 0.8535\n",
            " - LR: 0.055556\n",
            "\n",
            "Epoch 9/30\n",
            "1000/1000 [==============================] - 0s 301us/step - loss: 0.4613 - accuracy: 0.8990 - val_loss: 0.5738 - val_accuracy: 0.8560\n",
            " - LR: 0.052632\n",
            "\n",
            "Epoch 10/30\n",
            "1000/1000 [==============================] - 0s 285us/step - loss: 0.4333 - accuracy: 0.9040 - val_loss: 0.5586 - val_accuracy: 0.8535\n",
            " - LR: 0.050000\n",
            "\n",
            "Epoch 11/30\n",
            "1000/1000 [==============================] - 0s 289us/step - loss: 0.4114 - accuracy: 0.9110 - val_loss: 0.5397 - val_accuracy: 0.8585\n",
            " - LR: 0.047619\n",
            "\n",
            "Epoch 12/30\n",
            "1000/1000 [==============================] - 0s 291us/step - loss: 0.3910 - accuracy: 0.9160 - val_loss: 0.5209 - val_accuracy: 0.8645\n",
            " - LR: 0.045455\n",
            "\n",
            "Epoch 13/30\n",
            "1000/1000 [==============================] - 0s 292us/step - loss: 0.3735 - accuracy: 0.9150 - val_loss: 0.5141 - val_accuracy: 0.8645\n",
            " - LR: 0.043478\n",
            "\n",
            "Epoch 14/30\n",
            "1000/1000 [==============================] - 0s 287us/step - loss: 0.3584 - accuracy: 0.9230 - val_loss: 0.5020 - val_accuracy: 0.8675\n",
            " - LR: 0.041667\n",
            "\n",
            "Epoch 15/30\n",
            "1000/1000 [==============================] - 0s 304us/step - loss: 0.3454 - accuracy: 0.9250 - val_loss: 0.4969 - val_accuracy: 0.8650\n",
            " - LR: 0.040000\n",
            "\n",
            "Epoch 16/30\n",
            "1000/1000 [==============================] - 0s 291us/step - loss: 0.3337 - accuracy: 0.9260 - val_loss: 0.4901 - val_accuracy: 0.8670\n",
            " - LR: 0.038462\n",
            "\n",
            "Epoch 17/30\n",
            "1000/1000 [==============================] - 0s 290us/step - loss: 0.3230 - accuracy: 0.9310 - val_loss: 0.4808 - val_accuracy: 0.8705\n",
            " - LR: 0.037037\n",
            "\n",
            "Epoch 18/30\n",
            "1000/1000 [==============================] - 0s 288us/step - loss: 0.3128 - accuracy: 0.9300 - val_loss: 0.4740 - val_accuracy: 0.8715\n",
            " - LR: 0.035714\n",
            "\n",
            "Epoch 19/30\n",
            "1000/1000 [==============================] - 0s 290us/step - loss: 0.3040 - accuracy: 0.9330 - val_loss: 0.4719 - val_accuracy: 0.8720\n",
            " - LR: 0.034483\n",
            "\n",
            "Epoch 20/30\n",
            "1000/1000 [==============================] - 0s 308us/step - loss: 0.2956 - accuracy: 0.9370 - val_loss: 0.4669 - val_accuracy: 0.8730\n",
            " - LR: 0.033333\n",
            "\n",
            "Epoch 21/30\n",
            "1000/1000 [==============================] - 0s 291us/step - loss: 0.2885 - accuracy: 0.9350 - val_loss: 0.4638 - val_accuracy: 0.8725\n",
            " - LR: 0.032258\n",
            "\n",
            "Epoch 22/30\n",
            "1000/1000 [==============================] - 0s 288us/step - loss: 0.2814 - accuracy: 0.9390 - val_loss: 0.4607 - val_accuracy: 0.8735\n",
            " - LR: 0.031250\n",
            "\n",
            "Epoch 23/30\n",
            "1000/1000 [==============================] - 0s 294us/step - loss: 0.2747 - accuracy: 0.9430 - val_loss: 0.4575 - val_accuracy: 0.8735\n",
            " - LR: 0.030303\n",
            "\n",
            "Epoch 24/30\n",
            "1000/1000 [==============================] - 0s 289us/step - loss: 0.2687 - accuracy: 0.9410 - val_loss: 0.4540 - val_accuracy: 0.8735\n",
            " - LR: 0.029412\n",
            "\n",
            "Epoch 25/30\n",
            "1000/1000 [==============================] - 0s 290us/step - loss: 0.2628 - accuracy: 0.9470 - val_loss: 0.4541 - val_accuracy: 0.8730\n",
            " - LR: 0.028571\n",
            "\n",
            "Epoch 26/30\n",
            "1000/1000 [==============================] - 0s 310us/step - loss: 0.2580 - accuracy: 0.9440 - val_loss: 0.4496 - val_accuracy: 0.8715\n",
            " - LR: 0.027778\n",
            "\n",
            "Epoch 27/30\n",
            "1000/1000 [==============================] - 0s 293us/step - loss: 0.2526 - accuracy: 0.9480 - val_loss: 0.4472 - val_accuracy: 0.8710\n",
            " - LR: 0.027027\n",
            "\n",
            "Epoch 28/30\n",
            "1000/1000 [==============================] - 0s 286us/step - loss: 0.2477 - accuracy: 0.9480 - val_loss: 0.4443 - val_accuracy: 0.8750\n",
            " - LR: 0.026316\n",
            "\n",
            "Epoch 29/30\n",
            "1000/1000 [==============================] - 0s 294us/step - loss: 0.2434 - accuracy: 0.9510 - val_loss: 0.4417 - val_accuracy: 0.8760\n",
            " - LR: 0.025641\n",
            "\n",
            "Epoch 30/30\n",
            "1000/1000 [==============================] - 0s 293us/step - loss: 0.2391 - accuracy: 0.9530 - val_loss: 0.4407 - val_accuracy: 0.8740\n",
            " - LR: 0.025000\n",
            "\n"
          ],
          "name": "stdout"
        }
      ]
    },
    {
      "cell_type": "code",
      "metadata": {
        "id": "ItmJ67qPxkN4",
        "colab_type": "code",
        "colab": {
          "base_uri": "https://localhost:8080/",
          "height": 34
        },
        "outputId": "f29e4c13-f5e9-4813-abfd-d1d1503135b8"
      },
      "source": [
        "score=model.evaluate(x_test,y_test)"
      ],
      "execution_count": null,
      "outputs": [
        {
          "output_type": "stream",
          "text": [
            "8000/8000 [==============================] - 0s 24us/step\n"
          ],
          "name": "stdout"
        }
      ]
    },
    {
      "cell_type": "code",
      "metadata": {
        "id": "VQRU0YIQzJ3E",
        "colab_type": "code",
        "colab": {
          "base_uri": "https://localhost:8080/",
          "height": 34
        },
        "outputId": "cca08035-9fbd-439c-ca71-b91a29212812"
      },
      "source": [
        "print(\"%s: %.2f%%\" % (model.metrics_names[1], score[1]*100))\n",
        "\n",
        "#https://machinelearningmastery.com/evaluate-performance-deep-learning-models-keras/"
      ],
      "execution_count": null,
      "outputs": [
        {
          "output_type": "stream",
          "text": [
            "accuracy: 87.09%\n"
          ],
          "name": "stdout"
        }
      ]
    },
    {
      "cell_type": "code",
      "metadata": {
        "colab_type": "code",
        "id": "Gymvy2l23qCT",
        "colab": {
          "base_uri": "https://localhost:8080/",
          "height": 295
        },
        "outputId": "8491eba1-1909-4226-85c0-f230ddd56334"
      },
      "source": [
        "#plot the train and test error\n",
        "\n",
        "plt.plot(history.history['loss'],label='train')\n",
        "plt.plot(history.history['val_loss'],label='validation')\n",
        "plt.legend(loc='upper right')\n",
        "plt.xlabel('Epoch')\n",
        "plt.ylabel('Loss')\n",
        "plt.title('Epoch vs Loss')\n",
        "plt.show()\n",
        "\n"
      ],
      "execution_count": null,
      "outputs": [
        {
          "output_type": "display_data",
          "data": {
            "image/png": "[encoded data removed]",
            "text/plain": [
              "<Figure size 432x288 with 1 Axes>"
            ]
          },
          "metadata": {
            "tags": [],
            "needs_background": "light"
          }
        }
      ]
    },
    {
      "cell_type": "code",
      "metadata": {
        "id": "N9rxrCNKzOG1",
        "colab_type": "code",
        "colab": {
          "base_uri": "https://localhost:8080/",
          "height": 295
        },
        "outputId": "80012a10-bb8a-456a-fcc2-a402e2a012f8"
      },
      "source": [
        "\n",
        "# Learning speed for 1 hidden layer\n",
        "epoch=[]\n",
        "for i in range(1,31):\n",
        "    epoch.append(i)\n",
        "    \n",
        "plt.plot(epoch, learning_rate,label='learning rate')\n",
        "plt.xlabel('Epoch')\n",
        "plt.ylabel('Learning speed')\n",
        "plt.legend(loc='upper right')\n",
        "plt.title('Epoch vs Eearning speed')\n",
        "\n",
        "plt.show()\n",
        "learning_rate=[]"
      ],
      "execution_count": null,
      "outputs": [
        {
          "output_type": "display_data",
          "data": {
            "image/png": "[encoded data removed]",
            "text/plain": [
              "<Figure size 432x288 with 1 Axes>"
            ]
          },
          "metadata": {
            "tags": [],
            "needs_background": "light"
          }
        }
      ]
    },
    {
      "cell_type": "code",
      "metadata": {
        "id": "U_WDbpUOTADD",
        "colab_type": "code",
        "colab": {}
      },
      "source": [
        "\n",
        "        "
      ],
      "execution_count": null,
      "outputs": []
    },
    {
      "cell_type": "code",
      "metadata": {
        "id": "5Rtncr3n_Qvc",
        "colab_type": "code",
        "colab": {}
      },
      "source": [
        "## with 2 hidden layers\n",
        "\n",
        "\n",
        "model1=Sequential()\n",
        "model1.add(Flatten(input_shape=(28,28)))\n",
        "model1.add(Dense(30,activation='sigmoid'))\n",
        "model1.add(Dense(30,activation='sigmoid'))\n",
        "model1.add(Dense(10,activation='softmax'))\n",
        "                  \n",
        "sgd=SGD(lr=0.1,decay=0.001)\n",
        "model1.compile(loss='categorical_crossentropy',optimizer=sgd,metrics=['accuracy'])"
      ],
      "execution_count": null,
      "outputs": []
    },
    {
      "cell_type": "code",
      "metadata": {
        "colab_type": "code",
        "id": "8L3LLX763nva",
        "colab": {
          "base_uri": "https://localhost:8080/",
          "height": 1000
        },
        "outputId": "b25cf6f6-8604-4195-ba39-edca1951ea77"
      },
      "source": [
        "#dataset()\n",
        "history=model1.fit(new_x_train,new_y_train,validation_data=(x_val,y_val),epochs=30,batch_size=10,callbacks=[SGDLearningRateTracker()])"
      ],
      "execution_count": null,
      "outputs": [
        {
          "output_type": "stream",
          "text": [
            "Train on 1000 samples, validate on 2000 samples\n",
            "Epoch 1/30\n",
            "1000/1000 [==============================] - 0s 372us/step - loss: 2.3188 - accuracy: 0.1200 - val_loss: 2.2697 - val_accuracy: 0.1855\n",
            " - LR: 0.090909\n",
            "\n",
            "Epoch 2/30\n",
            "1000/1000 [==============================] - 0s 280us/step - loss: 2.2401 - accuracy: 0.1920 - val_loss: 2.1983 - val_accuracy: 0.2525\n",
            " - LR: 0.083333\n",
            "\n",
            "Epoch 3/30\n",
            "1000/1000 [==============================] - 0s 292us/step - loss: 2.1457 - accuracy: 0.3360 - val_loss: 2.0919 - val_accuracy: 0.3335\n",
            " - LR: 0.076923\n",
            "\n",
            "Epoch 4/30\n",
            "1000/1000 [==============================] - 0s 282us/step - loss: 2.0150 - accuracy: 0.4310 - val_loss: 1.9389 - val_accuracy: 0.5575\n",
            " - LR: 0.071429\n",
            "\n",
            "Epoch 5/30\n",
            "1000/1000 [==============================] - 0s 284us/step - loss: 1.8450 - accuracy: 0.5370 - val_loss: 1.7645 - val_accuracy: 0.6025\n",
            " - LR: 0.066667\n",
            "\n",
            "Epoch 6/30\n",
            "1000/1000 [==============================] - 0s 285us/step - loss: 1.6597 - accuracy: 0.6150 - val_loss: 1.5965 - val_accuracy: 0.5865\n",
            " - LR: 0.062500\n",
            "\n",
            "Epoch 7/30\n",
            "1000/1000 [==============================] - 0s 298us/step - loss: 1.4780 - accuracy: 0.6510 - val_loss: 1.4250 - val_accuracy: 0.6765\n",
            " - LR: 0.058824\n",
            "\n",
            "Epoch 8/30\n",
            "1000/1000 [==============================] - 0s 290us/step - loss: 1.3206 - accuracy: 0.6950 - val_loss: 1.2838 - val_accuracy: 0.6925\n",
            " - LR: 0.055556\n",
            "\n",
            "Epoch 9/30\n",
            "1000/1000 [==============================] - 0s 286us/step - loss: 1.1840 - accuracy: 0.7340 - val_loss: 1.1695 - val_accuracy: 0.6980\n",
            " - LR: 0.052632\n",
            "\n",
            "Epoch 10/30\n",
            "1000/1000 [==============================] - 0s 286us/step - loss: 1.0784 - accuracy: 0.7600 - val_loss: 1.0880 - val_accuracy: 0.6975\n",
            " - LR: 0.050000\n",
            "\n",
            "Epoch 11/30\n",
            "1000/1000 [==============================] - 0s 286us/step - loss: 0.9920 - accuracy: 0.7800 - val_loss: 1.0055 - val_accuracy: 0.7545\n",
            " - LR: 0.047619\n",
            "\n",
            "Epoch 12/30\n",
            "1000/1000 [==============================] - 0s 278us/step - loss: 0.9164 - accuracy: 0.7980 - val_loss: 0.9444 - val_accuracy: 0.7615\n",
            " - LR: 0.045455\n",
            "\n",
            "Epoch 13/30\n",
            "1000/1000 [==============================] - 0s 292us/step - loss: 0.8543 - accuracy: 0.8180 - val_loss: 0.8994 - val_accuracy: 0.7735\n",
            " - LR: 0.043478\n",
            "\n",
            "Epoch 14/30\n",
            "1000/1000 [==============================] - 0s 290us/step - loss: 0.8039 - accuracy: 0.8270 - val_loss: 0.8559 - val_accuracy: 0.7785\n",
            " - LR: 0.041667\n",
            "\n",
            "Epoch 15/30\n",
            "1000/1000 [==============================] - 0s 282us/step - loss: 0.7589 - accuracy: 0.8200 - val_loss: 0.8201 - val_accuracy: 0.7835\n",
            " - LR: 0.040000\n",
            "\n",
            "Epoch 16/30\n",
            "1000/1000 [==============================] - 0s 283us/step - loss: 0.7183 - accuracy: 0.8400 - val_loss: 0.7890 - val_accuracy: 0.7875\n",
            " - LR: 0.038462\n",
            "\n",
            "Epoch 17/30\n",
            "1000/1000 [==============================] - 0s 284us/step - loss: 0.6851 - accuracy: 0.8510 - val_loss: 0.7668 - val_accuracy: 0.7965\n",
            " - LR: 0.037037\n",
            "\n",
            "Epoch 18/30\n",
            "1000/1000 [==============================] - 0s 283us/step - loss: 0.6550 - accuracy: 0.8550 - val_loss: 0.7430 - val_accuracy: 0.8025\n",
            " - LR: 0.035714\n",
            "\n",
            "Epoch 19/30\n",
            "1000/1000 [==============================] - 0s 297us/step - loss: 0.6289 - accuracy: 0.8540 - val_loss: 0.7268 - val_accuracy: 0.8000\n",
            " - LR: 0.034483\n",
            "\n",
            "Epoch 20/30\n",
            "1000/1000 [==============================] - 0s 293us/step - loss: 0.6048 - accuracy: 0.8630 - val_loss: 0.7075 - val_accuracy: 0.7985\n",
            " - LR: 0.033333\n",
            "\n",
            "Epoch 21/30\n",
            "1000/1000 [==============================] - 0s 292us/step - loss: 0.5822 - accuracy: 0.8680 - val_loss: 0.6928 - val_accuracy: 0.7960\n",
            " - LR: 0.032258\n",
            "\n",
            "Epoch 22/30\n",
            "1000/1000 [==============================] - 0s 285us/step - loss: 0.5635 - accuracy: 0.8690 - val_loss: 0.6776 - val_accuracy: 0.8085\n",
            " - LR: 0.031250\n",
            "\n",
            "Epoch 23/30\n",
            "1000/1000 [==============================] - 0s 288us/step - loss: 0.5445 - accuracy: 0.8760 - val_loss: 0.6620 - val_accuracy: 0.8145\n",
            " - LR: 0.030303\n",
            "\n",
            "Epoch 24/30\n",
            "1000/1000 [==============================] - 0s 301us/step - loss: 0.5285 - accuracy: 0.8770 - val_loss: 0.6504 - val_accuracy: 0.8155\n",
            " - LR: 0.029412\n",
            "\n",
            "Epoch 25/30\n",
            "1000/1000 [==============================] - 0s 287us/step - loss: 0.5123 - accuracy: 0.8770 - val_loss: 0.6414 - val_accuracy: 0.8150\n",
            " - LR: 0.028571\n",
            "\n",
            "Epoch 26/30\n",
            "1000/1000 [==============================] - 0s 283us/step - loss: 0.4993 - accuracy: 0.8860 - val_loss: 0.6330 - val_accuracy: 0.8150\n",
            " - LR: 0.027778\n",
            "\n",
            "Epoch 27/30\n",
            "1000/1000 [==============================] - 0s 300us/step - loss: 0.4864 - accuracy: 0.8910 - val_loss: 0.6220 - val_accuracy: 0.8195\n",
            " - LR: 0.027027\n",
            "\n",
            "Epoch 28/30\n",
            "1000/1000 [==============================] - 0s 308us/step - loss: 0.4739 - accuracy: 0.8860 - val_loss: 0.6138 - val_accuracy: 0.8180\n",
            " - LR: 0.026316\n",
            "\n",
            "Epoch 29/30\n",
            "1000/1000 [==============================] - 0s 297us/step - loss: 0.4624 - accuracy: 0.8930 - val_loss: 0.6071 - val_accuracy: 0.8195\n",
            " - LR: 0.025641\n",
            "\n",
            "Epoch 30/30\n",
            "1000/1000 [==============================] - 0s 293us/step - loss: 0.4519 - accuracy: 0.8910 - val_loss: 0.5998 - val_accuracy: 0.8245\n",
            " - LR: 0.025000\n",
            "\n"
          ],
          "name": "stdout"
        }
      ]
    },
    {
      "cell_type": "code",
      "metadata": {
        "id": "51nV6VV94XUV",
        "colab_type": "code",
        "colab": {
          "base_uri": "https://localhost:8080/",
          "height": 50
        },
        "outputId": "06f0095a-262d-4cc4-a740-848c70ec66b7"
      },
      "source": [
        "score=model1.evaluate(x_test,y_test)\n",
        "print(\"%s: %.2f%%\" % (model1.metrics_names[1], score[1]*100))"
      ],
      "execution_count": null,
      "outputs": [
        {
          "output_type": "stream",
          "text": [
            "8000/8000 [==============================] - 0s 23us/step\n",
            "accuracy: 83.07%\n"
          ],
          "name": "stdout"
        }
      ]
    },
    {
      "cell_type": "code",
      "metadata": {
        "id": "klEQRoKb4jL9",
        "colab_type": "code",
        "colab": {
          "base_uri": "https://localhost:8080/",
          "height": 295
        },
        "outputId": "204c98c3-2561-4d2d-83a9-5003c0b9d88f"
      },
      "source": [
        "#plot for 2 hidden layer\n",
        "\n",
        "plt.plot(history.history['loss'],label=\"train\")\n",
        "plt.plot(history.history['val_loss'],label='validation')\n",
        "plt.title('Epoch vs Loss')\n",
        "plt.xlabel('Epoch')\n",
        "plt.ylabel('Loss')\n",
        "plt.legend(loc='upper right')\n",
        "plt.show()\n",
        "\n"
      ],
      "execution_count": null,
      "outputs": [
        {
          "output_type": "display_data",
          "data": {
            "image/png": "[encoded data removed]",
            "text/plain": [
              "<Figure size 432x288 with 1 Axes>"
            ]
          },
          "metadata": {
            "tags": [],
            "needs_background": "light"
          }
        }
      ]
    },
    {
      "cell_type": "code",
      "metadata": {
        "id": "fhf-QBGkSsFa",
        "colab_type": "code",
        "colab": {
          "base_uri": "https://localhost:8080/",
          "height": 295
        },
        "outputId": "4d18517d-da5e-4e4d-ef16-5fc958974719"
      },
      "source": [
        "#Learning rate for 2 hidden layer\n",
        "epoch=[]\n",
        "for i in range(1,31):\n",
        "    epoch.append(i)\n",
        "    \n",
        "plt.plot(epoch, learning_rate,label='learning rate')\n",
        "plt.title('Epoch vs Learning speed')\n",
        "plt.xlabel('Epoch')\n",
        "plt.ylabel('Learning speed')\n",
        "plt.legend(loc='upper right')\n",
        "plt.show()\n",
        "learning_rate=[]"
      ],
      "execution_count": null,
      "outputs": [
        {
          "output_type": "display_data",
          "data": {
            "image/png": "[encoded data removed]",
            "text/plain": [
              "<Figure size 432x288 with 1 Axes>"
            ]
          },
          "metadata": {
            "tags": [],
            "needs_background": "light"
          }
        }
      ]
    },
    {
      "cell_type": "code",
      "metadata": {
        "id": "s38CeDXsUU9N",
        "colab_type": "code",
        "colab": {}
      },
      "source": [
        ""
      ],
      "execution_count": null,
      "outputs": []
    },
    {
      "cell_type": "code",
      "metadata": {
        "id": "L4Pu9O0H4vOK",
        "colab_type": "code",
        "colab": {}
      },
      "source": [
        "## with 3 hidden layers\n",
        "\n",
        "\n",
        "\n",
        "model=Sequential()\n",
        "model.add(Flatten(input_shape=(28,28)))\n",
        "model.add(Dense(30,activation='sigmoid'))\n",
        "model.add(Dense(30,activation='sigmoid'))\n",
        "model.add(Dense(30,activation='sigmoid'))\n",
        "model.add(Dense(10,activation='softmax'))\n",
        "                  \n",
        "sgd=SGD(lr=0.1,decay=0.001)\n",
        "model.compile(loss='categorical_crossentropy',optimizer=sgd,metrics=['accuracy'])"
      ],
      "execution_count": null,
      "outputs": []
    },
    {
      "cell_type": "code",
      "metadata": {
        "id": "zC2g_Hs945En",
        "colab_type": "code",
        "colab": {
          "base_uri": "https://localhost:8080/",
          "height": 1000
        },
        "outputId": "d29cf3fa-f544-49c5-96a9-969c69eb3dc6"
      },
      "source": [
        "\n",
        "history=model.fit(new_x_train,new_y_train,validation_data=(x_val,y_val),epochs=30,batch_size=10,callbacks=[SGDLearningRateTracker()])\n"
      ],
      "execution_count": null,
      "outputs": [
        {
          "output_type": "stream",
          "text": [
            "Train on 1000 samples, validate on 2000 samples\n",
            "Epoch 1/30\n",
            "1000/1000 [==============================] - 0s 393us/step - loss: 2.3341 - accuracy: 0.0900 - val_loss: 2.3206 - val_accuracy: 0.0925\n",
            " - LR: 0.090909\n",
            "\n",
            "Epoch 2/30\n",
            "1000/1000 [==============================] - 0s 310us/step - loss: 2.3211 - accuracy: 0.0850 - val_loss: 2.3102 - val_accuracy: 0.1905\n",
            " - LR: 0.083333\n",
            "\n",
            "Epoch 3/30\n",
            "1000/1000 [==============================] - 0s 295us/step - loss: 2.3196 - accuracy: 0.0850 - val_loss: 2.2975 - val_accuracy: 0.1090\n",
            " - LR: 0.076923\n",
            "\n",
            "Epoch 4/30\n",
            "1000/1000 [==============================] - 0s 313us/step - loss: 2.3118 - accuracy: 0.1000 - val_loss: 2.3000 - val_accuracy: 0.1110\n",
            " - LR: 0.071429\n",
            "\n",
            "Epoch 5/30\n",
            "1000/1000 [==============================] - 0s 296us/step - loss: 2.3072 - accuracy: 0.0920 - val_loss: 2.2946 - val_accuracy: 0.2725\n",
            " - LR: 0.066667\n",
            "\n",
            "Epoch 6/30\n",
            "1000/1000 [==============================] - 0s 293us/step - loss: 2.3025 - accuracy: 0.1210 - val_loss: 2.3033 - val_accuracy: 0.0965\n",
            " - LR: 0.062500\n",
            "\n",
            "Epoch 7/30\n",
            "1000/1000 [==============================] - 0s 295us/step - loss: 2.3014 - accuracy: 0.1050 - val_loss: 2.2855 - val_accuracy: 0.0925\n",
            " - LR: 0.058824\n",
            "\n",
            "Epoch 8/30\n",
            "1000/1000 [==============================] - 0s 299us/step - loss: 2.2946 - accuracy: 0.1240 - val_loss: 2.2782 - val_accuracy: 0.2020\n",
            " - LR: 0.055556\n",
            "\n",
            "Epoch 9/30\n",
            "1000/1000 [==============================] - 0s 294us/step - loss: 2.2893 - accuracy: 0.1140 - val_loss: 2.2748 - val_accuracy: 0.1440\n",
            " - LR: 0.052632\n",
            "\n",
            "Epoch 10/30\n",
            "1000/1000 [==============================] - 0s 299us/step - loss: 2.2848 - accuracy: 0.1190 - val_loss: 2.2716 - val_accuracy: 0.1715\n",
            " - LR: 0.050000\n",
            "\n",
            "Epoch 11/30\n",
            "1000/1000 [==============================] - 0s 311us/step - loss: 2.2711 - accuracy: 0.1570 - val_loss: 2.2635 - val_accuracy: 0.2750\n",
            " - LR: 0.047619\n",
            "\n",
            "Epoch 12/30\n",
            "1000/1000 [==============================] - 0s 294us/step - loss: 2.2630 - accuracy: 0.1680 - val_loss: 2.2553 - val_accuracy: 0.1725\n",
            " - LR: 0.045455\n",
            "\n",
            "Epoch 13/30\n",
            "1000/1000 [==============================] - 0s 294us/step - loss: 2.2505 - accuracy: 0.2070 - val_loss: 2.2455 - val_accuracy: 0.2590\n",
            " - LR: 0.043478\n",
            "\n",
            "Epoch 14/30\n",
            "1000/1000 [==============================] - 0s 314us/step - loss: 2.2395 - accuracy: 0.2710 - val_loss: 2.2215 - val_accuracy: 0.3635\n",
            " - LR: 0.041667\n",
            "\n",
            "Epoch 15/30\n",
            "1000/1000 [==============================] - 0s 294us/step - loss: 2.2186 - accuracy: 0.2350 - val_loss: 2.2089 - val_accuracy: 0.2885\n",
            " - LR: 0.040000\n",
            "\n",
            "Epoch 16/30\n",
            "1000/1000 [==============================] - 0s 300us/step - loss: 2.2029 - accuracy: 0.2980 - val_loss: 2.1795 - val_accuracy: 0.4100\n",
            " - LR: 0.038462\n",
            "\n",
            "Epoch 17/30\n",
            "1000/1000 [==============================] - 0s 295us/step - loss: 2.1727 - accuracy: 0.3010 - val_loss: 2.1514 - val_accuracy: 0.4480\n",
            " - LR: 0.037037\n",
            "\n",
            "Epoch 18/30\n",
            "1000/1000 [==============================] - 0s 302us/step - loss: 2.1396 - accuracy: 0.3270 - val_loss: 2.1114 - val_accuracy: 0.3865\n",
            " - LR: 0.035714\n",
            "\n",
            "Epoch 19/30\n",
            "1000/1000 [==============================] - 0s 308us/step - loss: 2.0973 - accuracy: 0.3830 - val_loss: 2.0689 - val_accuracy: 0.3000\n",
            " - LR: 0.034483\n",
            "\n",
            "Epoch 20/30\n",
            "1000/1000 [==============================] - 0s 294us/step - loss: 2.0511 - accuracy: 0.3620 - val_loss: 2.0148 - val_accuracy: 0.4795\n",
            " - LR: 0.033333\n",
            "\n",
            "Epoch 21/30\n",
            "1000/1000 [==============================] - 0s 303us/step - loss: 1.9946 - accuracy: 0.3670 - val_loss: 1.9596 - val_accuracy: 0.4585\n",
            " - LR: 0.032258\n",
            "\n",
            "Epoch 22/30\n",
            "1000/1000 [==============================] - 0s 301us/step - loss: 1.9359 - accuracy: 0.4130 - val_loss: 1.9014 - val_accuracy: 0.4745\n",
            " - LR: 0.031250\n",
            "\n",
            "Epoch 23/30\n",
            "1000/1000 [==============================] - 0s 297us/step - loss: 1.8788 - accuracy: 0.4120 - val_loss: 1.8449 - val_accuracy: 0.4020\n",
            " - LR: 0.030303\n",
            "\n",
            "Epoch 24/30\n",
            "1000/1000 [==============================] - 0s 311us/step - loss: 1.8249 - accuracy: 0.3890 - val_loss: 1.7952 - val_accuracy: 0.4300\n",
            " - LR: 0.029412\n",
            "\n",
            "Epoch 25/30\n",
            "1000/1000 [==============================] - 0s 296us/step - loss: 1.7746 - accuracy: 0.4270 - val_loss: 1.7476 - val_accuracy: 0.4720\n",
            " - LR: 0.028571\n",
            "\n",
            "Epoch 26/30\n",
            "1000/1000 [==============================] - 0s 309us/step - loss: 1.7270 - accuracy: 0.4260 - val_loss: 1.7076 - val_accuracy: 0.4800\n",
            " - LR: 0.027778\n",
            "\n",
            "Epoch 27/30\n",
            "1000/1000 [==============================] - 0s 293us/step - loss: 1.6841 - accuracy: 0.4560 - val_loss: 1.6689 - val_accuracy: 0.4835\n",
            " - LR: 0.027027\n",
            "\n",
            "Epoch 28/30\n",
            "1000/1000 [==============================] - 0s 322us/step - loss: 1.6466 - accuracy: 0.4620 - val_loss: 1.6336 - val_accuracy: 0.4815\n",
            " - LR: 0.026316\n",
            "\n",
            "Epoch 29/30\n",
            "1000/1000 [==============================] - 0s 297us/step - loss: 1.6108 - accuracy: 0.4890 - val_loss: 1.6016 - val_accuracy: 0.4930\n",
            " - LR: 0.025641\n",
            "\n",
            "Epoch 30/30\n",
            "1000/1000 [==============================] - 0s 296us/step - loss: 1.5766 - accuracy: 0.4950 - val_loss: 1.5732 - val_accuracy: 0.4975\n",
            " - LR: 0.025000\n",
            "\n"
          ],
          "name": "stdout"
        }
      ]
    },
    {
      "cell_type": "code",
      "metadata": {
        "id": "5uA3y8ief0nT",
        "colab_type": "code",
        "colab": {
          "base_uri": "https://localhost:8080/",
          "height": 329
        },
        "outputId": "64be3642-e49b-4304-e415-5a53b64965f3"
      },
      "source": [
        "score=model.evaluate(x_test,y_test)\n",
        "print(\"%s: %.2f%%\" % (model.metrics_names[1], score[1]*100))\n",
        "\n",
        "plt.plot(history.history['loss'],label=\"train\")\n",
        "plt.plot(history.history['val_loss'],label=\"validation\")\n",
        "plt.title('Epoch vs Loss')\n",
        "plt.xlabel('Epoch')\n",
        "plt.ylabel('Loss')\n",
        "plt.legend(loc='upper right')\n",
        "\n",
        "plt.show()#"
      ],
      "execution_count": null,
      "outputs": [
        {
          "output_type": "stream",
          "text": [
            "8000/8000 [==============================] - 0s 25us/step\n",
            "accuracy: 50.51%\n"
          ],
          "name": "stdout"
        },
        {
          "output_type": "display_data",
          "data": {
            "image/png": "[encoded data removed]",
            "text/plain": [
              "<Figure size 432x288 with 1 Axes>"
            ]
          },
          "metadata": {
            "tags": [],
            "needs_background": "light"
          }
        }
      ]
    },
    {
      "cell_type": "code",
      "metadata": {
        "id": "LNvmc0_6UW2p",
        "colab_type": "code",
        "colab": {
          "base_uri": "https://localhost:8080/",
          "height": 295
        },
        "outputId": "afb431b2-a4d7-466a-e8eb-43bc193624e9"
      },
      "source": [
        "#Learning rate for 3 hidden layer\n",
        "epoch=[]\n",
        "for i in range(1,31):\n",
        "    epoch.append(i)\n",
        "    \n",
        "plt.plot(epoch, learning_rate,label='learning rate')\n",
        "plt.title('Epoch vs Learning speed')\n",
        "plt.xlabel('Epoch')\n",
        "plt.ylabel('Learning speed')\n",
        "plt.legend(loc='upper right')\n",
        "plt.show()\n",
        "learning_rate=[]"
      ],
      "execution_count": null,
      "outputs": [
        {
          "output_type": "display_data",
          "data": {
            "image/png": "[encoded data removed]",
            "text/plain": [
              "<Figure size 432x288 with 1 Axes>"
            ]
          },
          "metadata": {
            "tags": [],
            "needs_background": "light"
          }
        }
      ]
    },
    {
      "cell_type": "markdown",
      "metadata": {
        "id": "au2WxXyAkZzV",
        "colab_type": "text"
      },
      "source": [
        " With L2 Reguralization "
      ]
    },
    {
      "cell_type": "code",
      "metadata": {
        "id": "UfvMDQm54_46",
        "colab_type": "code",
        "colab": {}
      },
      "source": [
        "# 1 hidden layer\n",
        "\n",
        "model=Sequential()\n",
        "model.add(Flatten(input_shape=(28,28)))\n",
        "model.add(Dense(30,activation='sigmoid',kernel_regularizer=keras.regularizers.l2(l=5)))\n",
        "model.add(Dense(10,activation='softmax'))\n",
        "                  \n",
        "sgd=SGD(lr=0.1,decay=0.001)\n",
        "\n",
        "\n",
        "model.compile(loss='categorical_crossentropy',optimizer=sgd,metrics=['accuracy'])\n",
        "\n"
      ],
      "execution_count": null,
      "outputs": []
    },
    {
      "cell_type": "code",
      "metadata": {
        "id": "n8soFyJ84ni1",
        "colab_type": "code",
        "colab": {
          "base_uri": "https://localhost:8080/",
          "height": 1000
        },
        "outputId": "29dd6946-3f1e-4a94-c5cf-27528b64961d"
      },
      "source": [
        "\n",
        "history=model.fit(new_x_train,new_y_train,validation_data=(x_val,y_val),epochs=30,batch_size=10,callbacks=[SGDLearningRateTracker()])\n"
      ],
      "execution_count": null,
      "outputs": [
        {
          "output_type": "stream",
          "text": [
            "Train on 1000 samples, validate on 2000 samples\n",
            "Epoch 1/30\n",
            "1000/1000 [==============================] - 0s 375us/step - loss: 5.2878 - accuracy: 0.1130 - val_loss: 2.3517 - val_accuracy: 0.1130\n",
            " - LR: 0.090909\n",
            "\n",
            "Epoch 2/30\n",
            "1000/1000 [==============================] - 0s 299us/step - loss: 2.3391 - accuracy: 0.1200 - val_loss: 2.3704 - val_accuracy: 0.1185\n",
            " - LR: 0.083333\n",
            "\n",
            "Epoch 3/30\n",
            "1000/1000 [==============================] - 0s 285us/step - loss: 2.3391 - accuracy: 0.1170 - val_loss: 2.3333 - val_accuracy: 0.1075\n",
            " - LR: 0.076923\n",
            "\n",
            "Epoch 4/30\n",
            "1000/1000 [==============================] - 0s 288us/step - loss: 2.3391 - accuracy: 0.1100 - val_loss: 2.3247 - val_accuracy: 0.1370\n",
            " - LR: 0.071429\n",
            "\n",
            "Epoch 5/30\n",
            "1000/1000 [==============================] - 0s 296us/step - loss: 2.3344 - accuracy: 0.1170 - val_loss: 2.3195 - val_accuracy: 0.1310\n",
            " - LR: 0.066667\n",
            "\n",
            "Epoch 6/30\n",
            "1000/1000 [==============================] - 0s 289us/step - loss: 2.3305 - accuracy: 0.1160 - val_loss: 2.3171 - val_accuracy: 0.1155\n",
            " - LR: 0.062500\n",
            "\n",
            "Epoch 7/30\n",
            "1000/1000 [==============================] - 0s 289us/step - loss: 2.3290 - accuracy: 0.1170 - val_loss: 2.3120 - val_accuracy: 0.0895\n",
            " - LR: 0.058824\n",
            "\n",
            "Epoch 8/30\n",
            "1000/1000 [==============================] - 0s 294us/step - loss: 2.3288 - accuracy: 0.1020 - val_loss: 2.3215 - val_accuracy: 0.1245\n",
            " - LR: 0.055556\n",
            "\n",
            "Epoch 9/30\n",
            "1000/1000 [==============================] - 0s 286us/step - loss: 2.3247 - accuracy: 0.1190 - val_loss: 2.3194 - val_accuracy: 0.1225\n",
            " - LR: 0.052632\n",
            "\n",
            "Epoch 10/30\n",
            "1000/1000 [==============================] - 0s 290us/step - loss: 2.3219 - accuracy: 0.1090 - val_loss: 2.3198 - val_accuracy: 0.0985\n",
            " - LR: 0.050000\n",
            "\n",
            "Epoch 11/30\n",
            "1000/1000 [==============================] - 0s 294us/step - loss: 2.3242 - accuracy: 0.1100 - val_loss: 2.3079 - val_accuracy: 0.1850\n",
            " - LR: 0.047619\n",
            "\n",
            "Epoch 12/30\n",
            "1000/1000 [==============================] - 0s 288us/step - loss: 2.3218 - accuracy: 0.1120 - val_loss: 2.3138 - val_accuracy: 0.1010\n",
            " - LR: 0.045455\n",
            "\n",
            "Epoch 13/30\n",
            "1000/1000 [==============================] - 0s 297us/step - loss: 2.3203 - accuracy: 0.1150 - val_loss: 2.3230 - val_accuracy: 0.2415\n",
            " - LR: 0.043478\n",
            "\n",
            "Epoch 14/30\n",
            "1000/1000 [==============================] - 0s 286us/step - loss: 2.3173 - accuracy: 0.1400 - val_loss: 2.3090 - val_accuracy: 0.1085\n",
            " - LR: 0.041667\n",
            "\n",
            "Epoch 15/30\n",
            "1000/1000 [==============================] - 0s 290us/step - loss: 2.3188 - accuracy: 0.1060 - val_loss: 2.3060 - val_accuracy: 0.1090\n",
            " - LR: 0.040000\n",
            "\n",
            "Epoch 16/30\n",
            "1000/1000 [==============================] - 0s 289us/step - loss: 2.3156 - accuracy: 0.1120 - val_loss: 2.3078 - val_accuracy: 0.1480\n",
            " - LR: 0.038462\n",
            "\n",
            "Epoch 17/30\n",
            "1000/1000 [==============================] - 0s 286us/step - loss: 2.3182 - accuracy: 0.1160 - val_loss: 2.3075 - val_accuracy: 0.2450\n",
            " - LR: 0.037037\n",
            "\n",
            "Epoch 18/30\n",
            "1000/1000 [==============================] - 0s 293us/step - loss: 2.3128 - accuracy: 0.1250 - val_loss: 2.3094 - val_accuracy: 0.0925\n",
            " - LR: 0.035714\n",
            "\n",
            "Epoch 19/30\n",
            "1000/1000 [==============================] - 0s 287us/step - loss: 2.3140 - accuracy: 0.1340 - val_loss: 2.3008 - val_accuracy: 0.1755\n",
            " - LR: 0.034483\n",
            "\n",
            "Epoch 20/30\n",
            "1000/1000 [==============================] - 0s 288us/step - loss: 2.3160 - accuracy: 0.1030 - val_loss: 2.3030 - val_accuracy: 0.0965\n",
            " - LR: 0.033333\n",
            "\n",
            "Epoch 21/30\n",
            "1000/1000 [==============================] - 0s 290us/step - loss: 2.3129 - accuracy: 0.1230 - val_loss: 2.3033 - val_accuracy: 0.1880\n",
            " - LR: 0.032258\n",
            "\n",
            "Epoch 22/30\n",
            "1000/1000 [==============================] - 0s 292us/step - loss: 2.3141 - accuracy: 0.1210 - val_loss: 2.3058 - val_accuracy: 0.1100\n",
            " - LR: 0.031250\n",
            "\n",
            "Epoch 23/30\n",
            "1000/1000 [==============================] - 0s 289us/step - loss: 2.3109 - accuracy: 0.1280 - val_loss: 2.3050 - val_accuracy: 0.0900\n",
            " - LR: 0.030303\n",
            "\n",
            "Epoch 24/30\n",
            "1000/1000 [==============================] - 0s 286us/step - loss: 2.3105 - accuracy: 0.1200 - val_loss: 2.3059 - val_accuracy: 0.1875\n",
            " - LR: 0.029412\n",
            "\n",
            "Epoch 25/30\n",
            "1000/1000 [==============================] - 0s 294us/step - loss: 2.3099 - accuracy: 0.1390 - val_loss: 2.3056 - val_accuracy: 0.0925\n",
            " - LR: 0.028571\n",
            "\n",
            "Epoch 26/30\n",
            "1000/1000 [==============================] - 0s 292us/step - loss: 2.3089 - accuracy: 0.1270 - val_loss: 2.3092 - val_accuracy: 0.1020\n",
            " - LR: 0.027778\n",
            "\n",
            "Epoch 27/30\n",
            "1000/1000 [==============================] - 0s 291us/step - loss: 2.3110 - accuracy: 0.1160 - val_loss: 2.3108 - val_accuracy: 0.0925\n",
            " - LR: 0.027027\n",
            "\n",
            "Epoch 28/30\n",
            "1000/1000 [==============================] - 0s 288us/step - loss: 2.3095 - accuracy: 0.1230 - val_loss: 2.3012 - val_accuracy: 0.1195\n",
            " - LR: 0.026316\n",
            "\n",
            "Epoch 29/30\n",
            "1000/1000 [==============================] - 0s 311us/step - loss: 2.3095 - accuracy: 0.1360 - val_loss: 2.3022 - val_accuracy: 0.2715\n",
            " - LR: 0.025641\n",
            "\n",
            "Epoch 30/30\n",
            "1000/1000 [==============================] - 0s 295us/step - loss: 2.3104 - accuracy: 0.1300 - val_loss: 2.3034 - val_accuracy: 0.1965\n",
            " - LR: 0.025000\n",
            "\n"
          ],
          "name": "stdout"
        }
      ]
    },
    {
      "cell_type": "code",
      "metadata": {
        "id": "XNGrT0pYZv1T",
        "colab_type": "code",
        "colab": {
          "base_uri": "https://localhost:8080/",
          "height": 329
        },
        "outputId": "1ac1775d-ca92-4fbb-896f-782aa31b6347"
      },
      "source": [
        "score=model.evaluate(x_test,y_test)\n",
        "print(\"%s: %.2f%%\" % (model.metrics_names[1], score[1]*100))\n",
        "\n",
        "plt.plot(history.history['loss'],label=\"train\")\n",
        "plt.plot(history.history['val_loss'],label=\"validation\")\n",
        "plt.title('Epoch vs Loss')\n",
        "plt.xlabel('Epoch')\n",
        "plt.ylabel('Loss')\n",
        "plt.legend(loc='upper right')\n",
        "\n",
        "plt.show()#"
      ],
      "execution_count": null,
      "outputs": [
        {
          "output_type": "stream",
          "text": [
            "8000/8000 [==============================] - 0s 25us/step\n",
            "accuracy: 18.74%\n"
          ],
          "name": "stdout"
        },
        {
          "output_type": "display_data",
          "data": {
            "image/png": "[encoded data removed]",
            "text/plain": [
              "<Figure size 432x288 with 1 Axes>"
            ]
          },
          "metadata": {
            "tags": [],
            "needs_background": "light"
          }
        }
      ]
    },
    {
      "cell_type": "code",
      "metadata": {
        "id": "Yb20wv9JZ9xI",
        "colab_type": "code",
        "colab": {
          "base_uri": "https://localhost:8080/",
          "height": 295
        },
        "outputId": "6f5a79db-825b-41d2-e5b4-0276f721bc8b"
      },
      "source": [
        "#Learning rate for 1 hidden layer\n",
        "epoch=[]\n",
        "for i in range(1,31):\n",
        "    epoch.append(i)\n",
        "    \n",
        "plt.plot(epoch, learning_rate,label='learning rate')\n",
        "plt.xlabel('Epoch')\n",
        "plt.ylabel('Learning speed')\n",
        "plt.title('Epoch vs Learning speed')\n",
        "plt.legend(loc='upper right')\n",
        "plt.show()\n",
        "learning_rate=[]"
      ],
      "execution_count": null,
      "outputs": [
        {
          "output_type": "display_data",
          "data": {
            "image/png": "[encoded data removed]",
            "text/plain": [
              "<Figure size 432x288 with 1 Axes>"
            ]
          },
          "metadata": {
            "tags": [],
            "needs_background": "light"
          }
        }
      ]
    },
    {
      "cell_type": "code",
      "metadata": {
        "id": "15HSLPPZ5G9M",
        "colab_type": "code",
        "colab": {}
      },
      "source": [
        "## with 2 hidden layers\n",
        "\n",
        "model=Sequential()\n",
        "model.add(Flatten(input_shape=(28,28)))\n",
        "model.add(Dense(30,activation='sigmoid',kernel_regularizer=keras.regularizers.l2(l=5)))\n",
        "model.add(Dense(30,activation='sigmoid',kernel_regularizer=keras.regularizers.l2(l=5)))\n",
        "model.add(Dense(10,activation='softmax'))\n",
        "                  \n",
        "sgd=SGD(lr=0.1,decay=0.001)\n",
        "model.compile(loss='categorical_crossentropy',optimizer=sgd,metrics=['accuracy'])"
      ],
      "execution_count": null,
      "outputs": []
    },
    {
      "cell_type": "code",
      "metadata": {
        "id": "PUdpeouj5Xgb",
        "colab_type": "code",
        "colab": {
          "base_uri": "https://localhost:8080/",
          "height": 1000
        },
        "outputId": "d479dddc-dfb1-4d40-a924-881bb7f284e0"
      },
      "source": [
        "history=model.fit(new_x_train,new_y_train,validation_data=(x_val,y_val),epochs=30,batch_size=10,callbacks=[SGDLearningRateTracker()])\n"
      ],
      "execution_count": null,
      "outputs": [
        {
          "output_type": "stream",
          "text": [
            "Train on 1000 samples, validate on 2000 samples\n",
            "Epoch 1/30\n",
            "1000/1000 [==============================] - 0s 395us/step - loss: 6.7396 - accuracy: 0.0970 - val_loss: 2.3197 - val_accuracy: 0.1090\n",
            " - LR: 0.090909\n",
            "\n",
            "Epoch 2/30\n",
            "1000/1000 [==============================] - 0s 319us/step - loss: 2.3282 - accuracy: 0.1030 - val_loss: 2.3087 - val_accuracy: 0.0960\n",
            " - LR: 0.083333\n",
            "\n",
            "Epoch 3/30\n",
            "1000/1000 [==============================] - 0s 300us/step - loss: 2.3278 - accuracy: 0.0740 - val_loss: 2.3099 - val_accuracy: 0.0965\n",
            " - LR: 0.076923\n",
            "\n",
            "Epoch 4/30\n",
            "1000/1000 [==============================] - 0s 300us/step - loss: 2.3249 - accuracy: 0.0920 - val_loss: 2.3120 - val_accuracy: 0.1020\n",
            " - LR: 0.071429\n",
            "\n",
            "Epoch 5/30\n",
            "1000/1000 [==============================] - 0s 309us/step - loss: 2.3193 - accuracy: 0.1010 - val_loss: 2.3141 - val_accuracy: 0.1020\n",
            " - LR: 0.066667\n",
            "\n",
            "Epoch 6/30\n",
            "1000/1000 [==============================] - 0s 300us/step - loss: 2.3226 - accuracy: 0.0960 - val_loss: 2.3076 - val_accuracy: 0.1040\n",
            " - LR: 0.062500\n",
            "\n",
            "Epoch 7/30\n",
            "1000/1000 [==============================] - 0s 305us/step - loss: 2.3207 - accuracy: 0.0880 - val_loss: 2.3051 - val_accuracy: 0.1020\n",
            " - LR: 0.058824\n",
            "\n",
            "Epoch 8/30\n",
            "1000/1000 [==============================] - 0s 305us/step - loss: 2.3197 - accuracy: 0.0830 - val_loss: 2.3095 - val_accuracy: 0.0895\n",
            " - LR: 0.055556\n",
            "\n",
            "Epoch 9/30\n",
            "1000/1000 [==============================] - 0s 296us/step - loss: 2.3176 - accuracy: 0.1060 - val_loss: 2.3076 - val_accuracy: 0.0965\n",
            " - LR: 0.052632\n",
            "\n",
            "Epoch 10/30\n",
            "1000/1000 [==============================] - 0s 298us/step - loss: 2.3177 - accuracy: 0.0930 - val_loss: 2.3063 - val_accuracy: 0.0965\n",
            " - LR: 0.050000\n",
            "\n",
            "Epoch 11/30\n",
            "1000/1000 [==============================] - 0s 295us/step - loss: 2.3160 - accuracy: 0.0910 - val_loss: 2.3100 - val_accuracy: 0.1010\n",
            " - LR: 0.047619\n",
            "\n",
            "Epoch 12/30\n",
            "1000/1000 [==============================] - 0s 317us/step - loss: 2.3151 - accuracy: 0.0920 - val_loss: 2.3105 - val_accuracy: 0.0960\n",
            " - LR: 0.045455\n",
            "\n",
            "Epoch 13/30\n",
            "1000/1000 [==============================] - 0s 296us/step - loss: 2.3165 - accuracy: 0.0960 - val_loss: 2.3060 - val_accuracy: 0.1090\n",
            " - LR: 0.043478\n",
            "\n",
            "Epoch 14/30\n",
            "1000/1000 [==============================] - 0s 300us/step - loss: 2.3150 - accuracy: 0.0920 - val_loss: 2.3065 - val_accuracy: 0.0895\n",
            " - LR: 0.041667\n",
            "\n",
            "Epoch 15/30\n",
            "1000/1000 [==============================] - 0s 313us/step - loss: 2.3152 - accuracy: 0.0850 - val_loss: 2.3048 - val_accuracy: 0.1075\n",
            " - LR: 0.040000\n",
            "\n",
            "Epoch 16/30\n",
            "1000/1000 [==============================] - 0s 300us/step - loss: 2.3136 - accuracy: 0.0960 - val_loss: 2.3066 - val_accuracy: 0.1020\n",
            " - LR: 0.038462\n",
            "\n",
            "Epoch 17/30\n",
            "1000/1000 [==============================] - 0s 301us/step - loss: 2.3137 - accuracy: 0.1050 - val_loss: 2.3068 - val_accuracy: 0.0925\n",
            " - LR: 0.037037\n",
            "\n",
            "Epoch 18/30\n",
            "1000/1000 [==============================] - 0s 308us/step - loss: 2.3137 - accuracy: 0.0830 - val_loss: 2.3054 - val_accuracy: 0.0965\n",
            " - LR: 0.035714\n",
            "\n",
            "Epoch 19/30\n",
            "1000/1000 [==============================] - 0s 313us/step - loss: 2.3138 - accuracy: 0.0910 - val_loss: 2.3024 - val_accuracy: 0.1075\n",
            " - LR: 0.034483\n",
            "\n",
            "Epoch 20/30\n",
            "1000/1000 [==============================] - 0s 297us/step - loss: 2.3109 - accuracy: 0.1040 - val_loss: 2.3066 - val_accuracy: 0.1020\n",
            " - LR: 0.033333\n",
            "\n",
            "Epoch 21/30\n",
            "1000/1000 [==============================] - 0s 298us/step - loss: 2.3096 - accuracy: 0.0780 - val_loss: 2.3052 - val_accuracy: 0.1075\n",
            " - LR: 0.032258\n",
            "\n",
            "Epoch 22/30\n",
            "1000/1000 [==============================] - 0s 313us/step - loss: 2.3141 - accuracy: 0.0850 - val_loss: 2.3028 - val_accuracy: 0.1090\n",
            " - LR: 0.031250\n",
            "\n",
            "Epoch 23/30\n",
            "1000/1000 [==============================] - 0s 301us/step - loss: 2.3107 - accuracy: 0.0950 - val_loss: 2.3054 - val_accuracy: 0.1020\n",
            " - LR: 0.030303\n",
            "\n",
            "Epoch 24/30\n",
            "1000/1000 [==============================] - 0s 298us/step - loss: 2.3109 - accuracy: 0.0950 - val_loss: 2.3059 - val_accuracy: 0.0925\n",
            " - LR: 0.029412\n",
            "\n",
            "Epoch 25/30\n",
            "1000/1000 [==============================] - 0s 302us/step - loss: 2.3114 - accuracy: 0.1050 - val_loss: 2.3033 - val_accuracy: 0.1010\n",
            " - LR: 0.028571\n",
            "\n",
            "Epoch 26/30\n",
            "1000/1000 [==============================] - 0s 295us/step - loss: 2.3113 - accuracy: 0.0830 - val_loss: 2.3054 - val_accuracy: 0.0965\n",
            " - LR: 0.027778\n",
            "\n",
            "Epoch 27/30\n",
            "1000/1000 [==============================] - 0s 298us/step - loss: 2.3110 - accuracy: 0.0730 - val_loss: 2.3040 - val_accuracy: 0.0965\n",
            " - LR: 0.027027\n",
            "\n",
            "Epoch 28/30\n",
            "1000/1000 [==============================] - 0s 304us/step - loss: 2.3102 - accuracy: 0.0980 - val_loss: 2.3053 - val_accuracy: 0.1020\n",
            " - LR: 0.026316\n",
            "\n",
            "Epoch 29/30\n",
            "1000/1000 [==============================] - 0s 302us/step - loss: 2.3108 - accuracy: 0.0870 - val_loss: 2.3042 - val_accuracy: 0.0965\n",
            " - LR: 0.025641\n",
            "\n",
            "Epoch 30/30\n",
            "1000/1000 [==============================] - 0s 317us/step - loss: 2.3100 - accuracy: 0.0890 - val_loss: 2.3055 - val_accuracy: 0.0895\n",
            " - LR: 0.025000\n",
            "\n"
          ],
          "name": "stdout"
        }
      ]
    },
    {
      "cell_type": "code",
      "metadata": {
        "id": "h7_ecIWTgJaY",
        "colab_type": "code",
        "colab": {
          "base_uri": "https://localhost:8080/",
          "height": 329
        },
        "outputId": "7d137edb-5b47-4260-9b65-f720e77e7f0b"
      },
      "source": [
        "score=model.evaluate(x_test,y_test)\n",
        "print(\"%s: %.2f%%\" % (model.metrics_names[1], score[1]*100))\n",
        "\n",
        "plt.plot(history.history['loss'],label=\"train\")\n",
        "plt.plot(history.history['val_loss'],label=\"validation\")\n",
        "plt.title('Epoch vs Loss')\n",
        "plt.xlabel('epoch')\n",
        "plt.ylabel('loss')\n",
        "plt.legend(loc='upper right')\n",
        "\n",
        "plt.show()#"
      ],
      "execution_count": null,
      "outputs": [
        {
          "output_type": "stream",
          "text": [
            "8000/8000 [==============================] - 0s 23us/step\n",
            "accuracy: 8.91%\n"
          ],
          "name": "stdout"
        },
        {
          "output_type": "display_data",
          "data": {
            "image/png": "[encoded data removed]",
            "text/plain": [
              "<Figure size 432x288 with 1 Axes>"
            ]
          },
          "metadata": {
            "tags": [],
            "needs_background": "light"
          }
        }
      ]
    },
    {
      "cell_type": "code",
      "metadata": {
        "id": "7KZDeFfllGw3",
        "colab_type": "code",
        "colab": {
          "base_uri": "https://localhost:8080/",
          "height": 295
        },
        "outputId": "632c186c-62d1-41e9-9c77-bfdc758d1b81"
      },
      "source": [
        "#Learning rate for 2 hidden layer\n",
        "epoch=[]\n",
        "for i in range(1,31):\n",
        "    epoch.append(i)\n",
        "    \n",
        "plt.plot(epoch, learning_rate,label='learning rate')\n",
        "plt.xlabel('Epoch')\n",
        "plt.ylabel('Learning speed')\n",
        "plt.legend(loc='upper right')\n",
        "plt.title('Epoch vs Learning speed')\n",
        "plt.show()\n",
        "learning_rate=[]"
      ],
      "execution_count": null,
      "outputs": [
        {
          "output_type": "display_data",
          "data": {
            "image/png": "[encoded data removed]",
            "text/plain": [
              "<Figure size 432x288 with 1 Axes>"
            ]
          },
          "metadata": {
            "tags": [],
            "needs_background": "light"
          }
        }
      ]
    },
    {
      "cell_type": "code",
      "metadata": {
        "id": "wL-Pdpj65aZg",
        "colab_type": "code",
        "colab": {}
      },
      "source": [
        "## with 3 hidden layers\n",
        "\n",
        "model=Sequential()\n",
        "model.add(Flatten(input_shape=(28,28)))\n",
        "model.add(Dense(30,activation='sigmoid',kernel_regularizer=keras.regularizers.l2(l=5)))\n",
        "model.add(Dense(30,activation='sigmoid',kernel_regularizer=keras.regularizers.l2(l=5)))\n",
        "model.add(Dense(30,activation='sigmoid',kernel_regularizer=keras.regularizers.l2(l=5)))\n",
        "model.add(Dense(10,activation='softmax'))\n",
        "                  \n",
        "sgd=SGD(lr=0.1,decay=0.001)\n",
        "model.compile(loss='categorical_crossentropy',optimizer=sgd,metrics=['accuracy'])"
      ],
      "execution_count": null,
      "outputs": []
    },
    {
      "cell_type": "code",
      "metadata": {
        "id": "rHRxG-Wz6Ivi",
        "colab_type": "code",
        "colab": {
          "base_uri": "https://localhost:8080/",
          "height": 1000
        },
        "outputId": "31b12bba-bdcb-4066-e50c-030af263b7a4"
      },
      "source": [
        "history=model.fit(new_x_train,new_y_train,validation_data=(x_val,y_val),epochs=30,batch_size=10,callbacks=[SGDLearningRateTracker()])\n"
      ],
      "execution_count": null,
      "outputs": [
        {
          "output_type": "stream",
          "text": [
            "Train on 1000 samples, validate on 2000 samples\n",
            "Epoch 1/30\n",
            "1000/1000 [==============================] - 0s 404us/step - loss: 8.2055 - accuracy: 0.1070 - val_loss: 2.3258 - val_accuracy: 0.1075\n",
            " - LR: 0.090909\n",
            "\n",
            "Epoch 2/30\n",
            "1000/1000 [==============================] - 0s 306us/step - loss: 2.3299 - accuracy: 0.0880 - val_loss: 2.3151 - val_accuracy: 0.1020\n",
            " - LR: 0.083333\n",
            "\n",
            "Epoch 3/30\n",
            "1000/1000 [==============================] - 0s 304us/step - loss: 2.3221 - accuracy: 0.1030 - val_loss: 2.3153 - val_accuracy: 0.0965\n",
            " - LR: 0.076923\n",
            "\n",
            "Epoch 4/30\n",
            "1000/1000 [==============================] - 0s 294us/step - loss: 2.3245 - accuracy: 0.0910 - val_loss: 2.3190 - val_accuracy: 0.1075\n",
            " - LR: 0.071429\n",
            "\n",
            "Epoch 5/30\n",
            "1000/1000 [==============================] - 0s 301us/step - loss: 2.3194 - accuracy: 0.0940 - val_loss: 2.3172 - val_accuracy: 0.0925\n",
            " - LR: 0.066667\n",
            "\n",
            "Epoch 6/30\n",
            "1000/1000 [==============================] - 0s 301us/step - loss: 2.3238 - accuracy: 0.0810 - val_loss: 2.3062 - val_accuracy: 0.1040\n",
            " - LR: 0.062500\n",
            "\n",
            "Epoch 7/30\n",
            "1000/1000 [==============================] - 0s 309us/step - loss: 2.3222 - accuracy: 0.0870 - val_loss: 2.3144 - val_accuracy: 0.0925\n",
            " - LR: 0.058824\n",
            "\n",
            "Epoch 8/30\n",
            "1000/1000 [==============================] - 0s 312us/step - loss: 2.3197 - accuracy: 0.0980 - val_loss: 2.3052 - val_accuracy: 0.1010\n",
            " - LR: 0.055556\n",
            "\n",
            "Epoch 9/30\n",
            "1000/1000 [==============================] - 0s 309us/step - loss: 2.3151 - accuracy: 0.0960 - val_loss: 2.3132 - val_accuracy: 0.1020\n",
            " - LR: 0.052632\n",
            "\n",
            "Epoch 10/30\n",
            "1000/1000 [==============================] - 0s 310us/step - loss: 2.3180 - accuracy: 0.0810 - val_loss: 2.3052 - val_accuracy: 0.1020\n",
            " - LR: 0.050000\n",
            "\n",
            "Epoch 11/30\n",
            "1000/1000 [==============================] - 0s 309us/step - loss: 2.3157 - accuracy: 0.0920 - val_loss: 2.3099 - val_accuracy: 0.1075\n",
            " - LR: 0.047619\n",
            "\n",
            "Epoch 12/30\n",
            "1000/1000 [==============================] - 0s 306us/step - loss: 2.3156 - accuracy: 0.0940 - val_loss: 2.3067 - val_accuracy: 0.1075\n",
            " - LR: 0.045455\n",
            "\n",
            "Epoch 13/30\n",
            "1000/1000 [==============================] - 0s 316us/step - loss: 2.3162 - accuracy: 0.0860 - val_loss: 2.3077 - val_accuracy: 0.0925\n",
            " - LR: 0.043478\n",
            "\n",
            "Epoch 14/30\n",
            "1000/1000 [==============================] - 0s 319us/step - loss: 2.3136 - accuracy: 0.0800 - val_loss: 2.3072 - val_accuracy: 0.0965\n",
            " - LR: 0.041667\n",
            "\n",
            "Epoch 15/30\n",
            "1000/1000 [==============================] - 0s 302us/step - loss: 2.3165 - accuracy: 0.0770 - val_loss: 2.3029 - val_accuracy: 0.1040\n",
            " - LR: 0.040000\n",
            "\n",
            "Epoch 16/30\n",
            "1000/1000 [==============================] - 0s 306us/step - loss: 2.3121 - accuracy: 0.0910 - val_loss: 2.3066 - val_accuracy: 0.1090\n",
            " - LR: 0.038462\n",
            "\n",
            "Epoch 17/30\n",
            "1000/1000 [==============================] - 0s 306us/step - loss: 2.3140 - accuracy: 0.0740 - val_loss: 2.3045 - val_accuracy: 0.0960\n",
            " - LR: 0.037037\n",
            "\n",
            "Epoch 18/30\n",
            "1000/1000 [==============================] - 0s 319us/step - loss: 2.3142 - accuracy: 0.0910 - val_loss: 2.3068 - val_accuracy: 0.1040\n",
            " - LR: 0.035714\n",
            "\n",
            "Epoch 19/30\n",
            "1000/1000 [==============================] - 0s 309us/step - loss: 2.3132 - accuracy: 0.0790 - val_loss: 2.3054 - val_accuracy: 0.1075\n",
            " - LR: 0.034483\n",
            "\n",
            "Epoch 20/30\n",
            "1000/1000 [==============================] - 0s 308us/step - loss: 2.3119 - accuracy: 0.0900 - val_loss: 2.3076 - val_accuracy: 0.1020\n",
            " - LR: 0.033333\n",
            "\n",
            "Epoch 21/30\n",
            "1000/1000 [==============================] - 0s 316us/step - loss: 2.3142 - accuracy: 0.0710 - val_loss: 2.3056 - val_accuracy: 0.0960\n",
            " - LR: 0.032258\n",
            "\n",
            "Epoch 22/30\n",
            "1000/1000 [==============================] - 0s 305us/step - loss: 2.3112 - accuracy: 0.0870 - val_loss: 2.3052 - val_accuracy: 0.1020\n",
            " - LR: 0.031250\n",
            "\n",
            "Epoch 23/30\n",
            "1000/1000 [==============================] - 0s 306us/step - loss: 2.3109 - accuracy: 0.0940 - val_loss: 2.3079 - val_accuracy: 0.1075\n",
            " - LR: 0.030303\n",
            "\n",
            "Epoch 24/30\n",
            "1000/1000 [==============================] - 0s 319us/step - loss: 2.3123 - accuracy: 0.0820 - val_loss: 2.3039 - val_accuracy: 0.0965\n",
            " - LR: 0.029412\n",
            "\n",
            "Epoch 25/30\n",
            "1000/1000 [==============================] - 0s 307us/step - loss: 2.3114 - accuracy: 0.0890 - val_loss: 2.3060 - val_accuracy: 0.0960\n",
            " - LR: 0.028571\n",
            "\n",
            "Epoch 26/30\n",
            "1000/1000 [==============================] - 0s 315us/step - loss: 2.3102 - accuracy: 0.0990 - val_loss: 2.3029 - val_accuracy: 0.1020\n",
            " - LR: 0.027778\n",
            "\n",
            "Epoch 27/30\n",
            "1000/1000 [==============================] - 0s 304us/step - loss: 2.3116 - accuracy: 0.0860 - val_loss: 2.3047 - val_accuracy: 0.0960\n",
            " - LR: 0.027027\n",
            "\n",
            "Epoch 28/30\n",
            "1000/1000 [==============================] - 0s 304us/step - loss: 2.3105 - accuracy: 0.0870 - val_loss: 2.3051 - val_accuracy: 0.0895\n",
            " - LR: 0.026316\n",
            "\n",
            "Epoch 29/30\n",
            "1000/1000 [==============================] - 0s 323us/step - loss: 2.3104 - accuracy: 0.0850 - val_loss: 2.3060 - val_accuracy: 0.1040\n",
            " - LR: 0.025641\n",
            "\n",
            "Epoch 30/30\n",
            "1000/1000 [==============================] - 0s 305us/step - loss: 2.3111 - accuracy: 0.0840 - val_loss: 2.3056 - val_accuracy: 0.1040\n",
            " - LR: 0.025000\n",
            "\n"
          ],
          "name": "stdout"
        }
      ]
    },
    {
      "cell_type": "code",
      "metadata": {
        "id": "BKp1wX4N6SpE",
        "colab_type": "code",
        "colab": {
          "base_uri": "https://localhost:8080/",
          "height": 329
        },
        "outputId": "6743cc78-c8c3-47b0-ede7-9c0fde82a15c"
      },
      "source": [
        "score=model.evaluate(x_test,y_test)\n",
        "print(\"%s: %.2f%%\" % (model.metrics_names[1], score[1]*100))\n",
        "import matplotlib.pyplot as plt\n",
        "plt.plot(history.history['loss'],label=\"train\")\n",
        "plt.plot(history.history['val_loss'],label=\"validation\")\n",
        "plt.title('Epoch vs Loss')\n",
        "plt.xlabel('epoch')\n",
        "plt.ylabel('loss')\n",
        "plt.legend(loc='upper right')\n",
        "\n",
        "plt.show()"
      ],
      "execution_count": null,
      "outputs": [
        {
          "output_type": "stream",
          "text": [
            "8000/8000 [==============================] - 0s 25us/step\n",
            "accuracy: 11.59%\n"
          ],
          "name": "stdout"
        },
        {
          "output_type": "display_data",
          "data": {
            "image/png": "[encoded data removed]",
            "text/plain": [
              "<Figure size 432x288 with 1 Axes>"
            ]
          },
          "metadata": {
            "tags": [],
            "needs_background": "light"
          }
        }
      ]
    },
    {
      "cell_type": "code",
      "metadata": {
        "id": "dWn5OYRs6rcT",
        "colab_type": "code",
        "colab": {
          "base_uri": "https://localhost:8080/",
          "height": 295
        },
        "outputId": "bf509459-36b5-4b7f-98b2-afeffbb17f82"
      },
      "source": [
        "#Learning rate for 3 layers\n",
        "epoch=[]\n",
        "for i in range(1,31):\n",
        "    epoch.append(i)\n",
        "    \n",
        "plt.plot(epoch, learning_rate,label='learning rate')\n",
        "plt.xlabel('Epoch')\n",
        "plt.ylabel('Learning speed')\n",
        "plt.legend(loc='upper right')\n",
        "plt.title('Epoch vs Learning speed')\n",
        "plt.show()\n",
        "learning_rate=[]"
      ],
      "execution_count": null,
      "outputs": [
        {
          "output_type": "display_data",
          "data": {
            "image/png": "[encoded data removed]",
            "text/plain": [
              "<Figure size 432x288 with 1 Axes>"
            ]
          },
          "metadata": {
            "tags": [],
            "needs_background": "light"
          }
        }
      ]
    },
    {
      "cell_type": "code",
      "metadata": {
        "id": "jxciMu6l6rrZ",
        "colab_type": "code",
        "colab": {}
      },
      "source": [
        "\n",
        " "
      ],
      "execution_count": null,
      "outputs": []
    },
    {
      "cell_type": "markdown",
      "metadata": {
        "id": "ubgLUYhpvyx3",
        "colab_type": "text"
      },
      "source": [
        "#Reference:\n",
        "https://github.com/keras-team/keras/blob/master/keras/optimizers.py#L164\n",
        "\n",
        "https://stats.stackexchange.com/questions/163388/why-is-the-l2-regularization-equivalent-to-gaussian-prior\n",
        "\n",
        "https://arxiv.org/pdf/1804.10690.pdf"
      ]
    },
    {
      "cell_type": "code",
      "metadata": {
        "id": "acMxjcl18kcp",
        "colab_type": "code",
        "colab": {}
      },
      "source": [
        ""
      ],
      "execution_count": null,
      "outputs": []
    },
    {
      "cell_type": "code",
      "metadata": {
        "id": "Tz9Ange293BT",
        "colab_type": "code",
        "colab": {}
      },
      "source": [
        ""
      ],
      "execution_count": null,
      "outputs": []
    },
    {
      "cell_type": "code",
      "metadata": {
        "id": "5TwcNylc_xxU",
        "colab_type": "code",
        "colab": {}
      },
      "source": [
        ""
      ],
      "execution_count": null,
      "outputs": []
    },
    {
      "cell_type": "code",
      "metadata": {
        "id": "7kLDNZLdAPnz",
        "colab_type": "code",
        "colab": {}
      },
      "source": [
        ""
      ],
      "execution_count": null,
      "outputs": []
    },
    {
      "cell_type": "code",
      "metadata": {
        "id": "NWU8-4ELB4Zs",
        "colab_type": "code",
        "colab": {}
      },
      "source": [
        ""
      ],
      "execution_count": null,
      "outputs": []
    },
    {
      "cell_type": "markdown",
      "metadata": {
        "id": "-JH7G4rEBXcr",
        "colab_type": "text"
      },
      "source": [
        ""
      ]
    }
  ]
}