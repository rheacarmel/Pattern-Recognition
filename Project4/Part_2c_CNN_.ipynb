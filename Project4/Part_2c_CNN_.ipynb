{
  "nbformat": 4,
  "nbformat_minor": 0,
  "metadata": {
    "colab": {
      "name": "Part 2c CNN .ipynb",
      "provenance": []
    },
    "kernelspec": {
      "name": "python3",
      "display_name": "Python 3"
    }
  },
  "cells": [
    {
      "cell_type": "code",
      "metadata": {
        "id": "6d44bCGyag_Z",
        "colab_type": "code",
        "colab": {
          "base_uri": "https://localhost:8080/",
          "height": 54
        },
        "outputId": "ddddb1f8-2127-4d1d-880b-65c6f17c364b"
      },
      "source": [
        "#part 2 CNN\n",
        "\n",
        "from keras.layers import Dense, Dropout, Flatten\n",
        "from keras.layers import Conv2D, MaxPooling2D\n",
        "import numpy as np\n",
        "from keras.datasets import mnist\n",
        "from keras.layers import Flatten\n",
        "from keras.layers import Dense\n",
        "from keras import Sequential\n",
        "from keras.optimizers import SGD\n",
        "\n",
        "(x_train, y_train), (x_test, y_test) = mnist.load_data()\n",
        "x_train=x_train/255.0\n",
        "x_test=x_test/255.0\n",
        "\n",
        "\n",
        "\n"
      ],
      "execution_count": null,
      "outputs": [
        {
          "output_type": "execute_result",
          "data": {
            "text/plain": [
              "'data_set={}  #directory for each class\\nnumber_output_class=10\\n\\nfor i in range(number_output_class):\\n  data_set[i]=[]\\n\\n#group the x_train with respect to y_train labels\\nfor i in range(y_train.shape[0]):\\n  data_set[y_train[i]].append(x_train[i,:,:])'"
            ]
          },
          "metadata": {
            "tags": []
          },
          "execution_count": 84
        }
      ]
    },
    {
      "cell_type": "code",
      "metadata": {
        "id": "mkjdIWI2a8eA",
        "colab_type": "code",
        "colab": {}
      },
      "source": [
        " from sklearn.model_selection import train_test_split\n",
        "#x_test,x_val,y_test,y_val=train_test_split(x_test, y_test, test_size=0.2)\n",
        "x_train,x_val,y_train,y_val=train_test_split(x_train, y_train, test_size=0.2)"
      ],
      "execution_count": null,
      "outputs": []
    },
    {
      "cell_type": "code",
      "metadata": {
        "id": "wM-qxHlTbGFo",
        "colab_type": "code",
        "colab": {}
      },
      "source": [
        "from keras.utils import to_categorical\n",
        "y_train = to_categorical(y_train)\n",
        "y_val=to_categorical(y_val)\n",
        "y_test = to_categorical(y_test)"
      ],
      "execution_count": null,
      "outputs": []
    },
    {
      "cell_type": "code",
      "metadata": {
        "id": "Jco8v-VCbVXY",
        "colab_type": "code",
        "colab": {}
      },
      "source": [
        "#with drop out\n",
        "model=Sequential()\n",
        "model.add(Conv2D(32,kernel_size=(5,5),activation='sigmoid',input_shape=(28,28,1)))\n",
        "model.add(Conv2D(64,(5,5),activation='sigmoid'))\n",
        "model.add(MaxPooling2D(pool_size=(2,2)))\n",
        "model.add(Dropout(0.2))\n",
        "model.add(Flatten())\n",
        "model.add(Dense(128,activation='sigmoid'))\n",
        "model.add(Dense(10,activation='softmax'))\n",
        "\n",
        "\n",
        "\n",
        "sgd=SGD(lr=0.1)\n",
        "model.compile(loss='categorical_crossentropy',optimizer=sgd,metrics=['accuracy'])"
      ],
      "execution_count": null,
      "outputs": []
    },
    {
      "cell_type": "code",
      "metadata": {
        "id": "eCpSGRk6cM_h",
        "colab_type": "code",
        "colab": {}
      },
      "source": [
        "CNN_x_train=x_train.reshape(x_train.shape[0],28,28,1)\n",
        "CNN_x_test=x_test.reshape(x_test.shape[0],28,28,1)\n",
        "CNN_x_val=x_val.reshape(x_val.shape[0],28,28,1)"
      ],
      "execution_count": null,
      "outputs": []
    },
    {
      "cell_type": "code",
      "metadata": {
        "id": "ORannA7QdT5C",
        "colab_type": "code",
        "colab": {
          "base_uri": "https://localhost:8080/",
          "height": 238
        },
        "outputId": "370cee9e-b459-40f5-8128-c760931e21f5"
      },
      "source": [
        "model.fit(CNN_x_train,y_train,validation_data=(CNN_x_val,y_val),batch_size=128,epochs=5)"
      ],
      "execution_count": null,
      "outputs": [
        {
          "output_type": "stream",
          "text": [
            "Train on 48000 samples, validate on 12000 samples\n",
            "Epoch 1/5\n",
            "48000/48000 [==============================] - 189s 4ms/step - loss: 2.3161 - accuracy: 0.1050 - val_loss: 2.3096 - val_accuracy: 0.1123\n",
            "Epoch 2/5\n",
            "48000/48000 [==============================] - 190s 4ms/step - loss: 2.2937 - accuracy: 0.1270 - val_loss: 2.2174 - val_accuracy: 0.1095\n",
            "Epoch 3/5\n",
            "48000/48000 [==============================] - 189s 4ms/step - loss: 0.9658 - accuracy: 0.7247 - val_loss: 0.4641 - val_accuracy: 0.8628\n",
            "Epoch 4/5\n",
            "48000/48000 [==============================] - 190s 4ms/step - loss: 0.3985 - accuracy: 0.8823 - val_loss: 0.3353 - val_accuracy: 0.9022\n",
            "Epoch 5/5\n",
            "48000/48000 [==============================] - 192s 4ms/step - loss: 0.3209 - accuracy: 0.9038 - val_loss: 0.2988 - val_accuracy: 0.9095\n"
          ],
          "name": "stdout"
        },
        {
          "output_type": "execute_result",
          "data": {
            "text/plain": [
              "<keras.callbacks.callbacks.History at 0x7f7e845ff780>"
            ]
          },
          "metadata": {
            "tags": []
          },
          "execution_count": 101
        }
      ]
    },
    {
      "cell_type": "code",
      "metadata": {
        "id": "YkrV-2PVdXOa",
        "colab_type": "code",
        "colab": {
          "base_uri": "https://localhost:8080/",
          "height": 50
        },
        "outputId": "0d51ee3a-03e5-4863-858e-3a30e6344631"
      },
      "source": [
        "score=model.evaluate(CNN_x_test,y_test)\n",
        "print(\"%s: %.2f%%\" % (model.metrics_names[1], score[1]*100))"
      ],
      "execution_count": null,
      "outputs": [
        {
          "output_type": "stream",
          "text": [
            "10000/10000 [==============================] - 10s 980us/step\n",
            "accuracy: 91.46%\n"
          ],
          "name": "stdout"
        }
      ]
    },
    {
      "cell_type": "code",
      "metadata": {
        "id": "l-0sNHfbdgC0",
        "colab_type": "code",
        "colab": {}
      },
      "source": [
        "# with image generator\n",
        "\n",
        "from keras.preprocessing.image import ImageDataGenerator\n",
        "\n",
        "datagen=ImageDataGenerator(\n",
        "    rotation_range=3,\n",
        "    width_shift_range=3,\n",
        "    height_shift_range=3,\n",
        "    horizontal_flip=True )\n",
        "\n",
        "\n",
        "model=Sequential()\n",
        "model.add(Conv2D(32,kernel_size=(5,5),activation='sigmoid',input_shape=(28,28,1)))\n",
        "model.add(Conv2D(64,(5,5),activation='sigmoid'))\n",
        "model.add(MaxPooling2D(pool_size=(2,2)))\n",
        "\n",
        "model.add(Flatten())\n",
        "model.add(Dense(128,activation='sigmoid'))\n",
        "model.add(Dense(10,activation='softmax'))\n",
        "\n",
        "\n",
        "\n",
        "sgd=SGD(lr=0.1)\n",
        "model.compile(loss='categorical_crossentropy',optimizer=sgd,metrics=['accuracy'])\n"
      ],
      "execution_count": null,
      "outputs": []
    },
    {
      "cell_type": "code",
      "metadata": {
        "id": "L6F4GUbdd1o_",
        "colab_type": "code",
        "colab": {
          "base_uri": "https://localhost:8080/",
          "height": 238
        },
        "outputId": "3d35e256-dd0c-41fa-fb86-17413efac7f1"
      },
      "source": [
        "model.fit(CNN_x_train,y_train,validation_data=(CNN_x_val,y_val),batch_size=128,epochs=5)"
      ],
      "execution_count": null,
      "outputs": [
        {
          "output_type": "stream",
          "text": [
            "Train on 48000 samples, validate on 12000 samples\n",
            "Epoch 1/5\n",
            "48000/48000 [==============================] - 186s 4ms/step - loss: 2.3143 - accuracy: 0.1049 - val_loss: 2.3217 - val_accuracy: 0.0994\n",
            "Epoch 2/5\n",
            "48000/48000 [==============================] - 186s 4ms/step - loss: 2.0460 - accuracy: 0.2751 - val_loss: 0.8697 - val_accuracy: 0.7717\n",
            "Epoch 3/5\n",
            "48000/48000 [==============================] - 186s 4ms/step - loss: 0.5297 - accuracy: 0.8502 - val_loss: 0.3953 - val_accuracy: 0.8844\n",
            "Epoch 4/5\n",
            "48000/48000 [==============================] - 190s 4ms/step - loss: 0.3494 - accuracy: 0.8962 - val_loss: 0.3067 - val_accuracy: 0.9084\n",
            "Epoch 5/5\n",
            "48000/48000 [==============================] - 189s 4ms/step - loss: 0.2863 - accuracy: 0.9144 - val_loss: 0.2696 - val_accuracy: 0.9172\n"
          ],
          "name": "stdout"
        },
        {
          "output_type": "execute_result",
          "data": {
            "text/plain": [
              "<keras.callbacks.callbacks.History at 0x7f7e843f8c18>"
            ]
          },
          "metadata": {
            "tags": []
          },
          "execution_count": 104
        }
      ]
    },
    {
      "cell_type": "code",
      "metadata": {
        "id": "D4pHvr5Ld83s",
        "colab_type": "code",
        "colab": {
          "base_uri": "https://localhost:8080/",
          "height": 50
        },
        "outputId": "f861f81c-c700-4b6e-95bb-270a23f3b430"
      },
      "source": [
        "score=model.evaluate(CNN_x_test,y_test)\n",
        "print(\"%s: %.2f%%\" % (model.metrics_names[1], score[1]*100))"
      ],
      "execution_count": null,
      "outputs": [
        {
          "output_type": "stream",
          "text": [
            "10000/10000 [==============================] - 9s 949us/step\n",
            "accuracy: 92.24%\n"
          ],
          "name": "stdout"
        }
      ]
    },
    {
      "cell_type": "code",
      "metadata": {
        "id": "l6CvxLVweb4F",
        "colab_type": "code",
        "colab": {}
      },
      "source": [
        "#https://blog.keras.io/building-powerful-image-classification-models-using-very-little-data.html"
      ],
      "execution_count": null,
      "outputs": []
    }
  ]
}